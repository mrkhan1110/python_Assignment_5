{
 "cells": [
  {
   "cell_type": "markdown",
   "id": "5b564aaa-5820-47a7-bcc6-7644484f8ff6",
   "metadata": {},
   "source": [
    "For Loop:-"
   ]
  },
  {
   "cell_type": "markdown",
   "id": "25643d25-1e63-4552-ab8d-adeab9202a1c",
   "metadata": {},
   "source": [
    "Q1) Write a Python program to print numbers from 1 to 10 using a for loop."
   ]
  },
  {
   "cell_type": "code",
   "execution_count": 1,
   "id": "e4e7962f-819e-44c4-8b03-49fc8e1ec4f6",
   "metadata": {},
   "outputs": [
    {
     "name": "stdout",
     "output_type": "stream",
     "text": [
      "1\n",
      "2\n",
      "3\n",
      "4\n",
      "5\n",
      "6\n",
      "7\n",
      "8\n",
      "9\n",
      "10\n"
     ]
    }
   ],
   "source": [
    "for num in range(1, 11):\n",
    "    print(num)"
   ]
  },
  {
   "cell_type": "markdown",
   "id": "a5d43e03-5b4d-43b8-bd55-081ada0e05d4",
   "metadata": {},
   "source": [
    "Q2) Explain the difference between a for loop and a while loop in Python.\n",
    "\n",
    "Ans2) A for loop is used when you have a specific range or iterable, and you want to execute a block of code a predefined number of times. It's often used when you know the number of iterations in advance.\n",
    "A while loop is used when you want to repeat a block of code as long as a certain condition is true. It's used when you don't know in advance how many times the code will need to run."
   ]
  },
  {
   "cell_type": "markdown",
   "id": "5c3a085e-eb71-4dda-b223-c627567e32fc",
   "metadata": {},
   "source": [
    "Q3) Write a Python program to calculate the sum of all numbers from 1 to 100 using a for loop."
   ]
  },
  {
   "cell_type": "code",
   "execution_count": 2,
   "id": "23726a87-ac86-4ba6-9612-74632d97a09a",
   "metadata": {},
   "outputs": [
    {
     "name": "stdout",
     "output_type": "stream",
     "text": [
      "The sum of numbers from 1 to 100 is: 5050\n"
     ]
    }
   ],
   "source": [
    "total = 0\n",
    "for num in range(1, 101):\n",
    "    total += num\n",
    "print(\"The sum of numbers from 1 to 100 is:\", total)"
   ]
  },
  {
   "cell_type": "markdown",
   "id": "b4dbbc98-60cc-420c-9c72-2f4701565137",
   "metadata": {},
   "source": [
    "Q4) How do you iterate through a list using a for loop in Python?"
   ]
  },
  {
   "cell_type": "code",
   "execution_count": 3,
   "id": "4d3b2d73-27df-4961-b730-fcf82344c23c",
   "metadata": {},
   "outputs": [
    {
     "name": "stdout",
     "output_type": "stream",
     "text": [
      "1\n",
      "2\n",
      "3\n",
      "4\n",
      "5\n"
     ]
    }
   ],
   "source": [
    "my_list = [1, 2, 3, 4, 5]\n",
    "for item in my_list:\n",
    "    print(item)"
   ]
  },
  {
   "cell_type": "markdown",
   "id": "92455fb9-74e8-44ef-b228-c0ffca70f938",
   "metadata": {},
   "source": [
    "Q5) Write a Python program to find the product of all elements in a list using a for loop."
   ]
  },
  {
   "cell_type": "code",
   "execution_count": 4,
   "id": "1d4bce8e-0f5a-4795-8a12-a01ac302f087",
   "metadata": {},
   "outputs": [
    {
     "name": "stdout",
     "output_type": "stream",
     "text": [
      "The product of elements in the list is: 120\n"
     ]
    }
   ],
   "source": [
    "my_list = [1, 2, 3, 4, 5]\n",
    "product = 1\n",
    "for num in my_list:\n",
    "    product *= num\n",
    "print(\"The product of elements in the list is:\", product)"
   ]
  },
  {
   "cell_type": "markdown",
   "id": "b3fe02cf-9b45-4a66-8343-667a2baa8860",
   "metadata": {},
   "source": [
    "Q6) Create a Python program that prints all even numbers from 1 to 20 using a for loop."
   ]
  },
  {
   "cell_type": "code",
   "execution_count": 5,
   "id": "151203bd-6cf1-4309-904f-0941698a175c",
   "metadata": {},
   "outputs": [
    {
     "name": "stdout",
     "output_type": "stream",
     "text": [
      "2\n",
      "4\n",
      "6\n",
      "8\n",
      "10\n",
      "12\n",
      "14\n",
      "16\n",
      "18\n",
      "20\n"
     ]
    }
   ],
   "source": [
    "for num in range(2, 21, 2):\n",
    "    print(num)"
   ]
  },
  {
   "cell_type": "markdown",
   "id": "3165ebf6-a7bb-445a-900b-0dc7cdaa6e43",
   "metadata": {},
   "source": [
    "Q7)Write a Python program that calculates the factorial of a number using a for loop."
   ]
  },
  {
   "cell_type": "code",
   "execution_count": 6,
   "id": "35e9447c-b164-4185-8a7c-050e47a5cfb8",
   "metadata": {},
   "outputs": [
    {
     "name": "stdout",
     "output_type": "stream",
     "text": [
      "The factorial of 5 is 120\n"
     ]
    }
   ],
   "source": [
    "num = 5  \n",
    "factorial = 1\n",
    "for i in range(1, num + 1):\n",
    "    factorial *= i\n",
    "print(\"The factorial of\", num, \"is\", factorial)"
   ]
  },
  {
   "cell_type": "markdown",
   "id": "951af55a-738f-4e44-a6bb-5d8a4c08cd1c",
   "metadata": {},
   "source": [
    "Q8) How can you iterate through the characters of a string using a for loop in Python?"
   ]
  },
  {
   "cell_type": "code",
   "execution_count": 7,
   "id": "0ad93453-e9f9-45c9-9f3d-e941a9c85d36",
   "metadata": {},
   "outputs": [
    {
     "name": "stdout",
     "output_type": "stream",
     "text": [
      "H\n",
      "e\n",
      "l\n",
      "l\n",
      "o\n",
      ",\n",
      " \n",
      "W\n",
      "o\n",
      "r\n",
      "l\n",
      "d\n",
      "!\n"
     ]
    }
   ],
   "source": [
    "my_string = \"Hello, World!\"\n",
    "for char in my_string:\n",
    "    print(char)"
   ]
  },
  {
   "cell_type": "markdown",
   "id": "c04d04c8-1a36-40e4-916b-21e3ce5da749",
   "metadata": {},
   "source": [
    "Q9) Write a Python program to find the largest number in a list using a for loop."
   ]
  },
  {
   "cell_type": "code",
   "execution_count": 8,
   "id": "9dc225d1-165e-45fc-8eef-2d171bd2bfb9",
   "metadata": {},
   "outputs": [
    {
     "name": "stdout",
     "output_type": "stream",
     "text": [
      "The largest number in the list is: 89\n"
     ]
    }
   ],
   "source": [
    "my_list = [10, 45, 23, 67, 89, 34]\n",
    "largest = my_list[0]\n",
    "for num in my_list:\n",
    "    if num > largest:\n",
    "        largest = num\n",
    "print(\"The largest number in the list is:\", largest)"
   ]
  },
  {
   "cell_type": "markdown",
   "id": "5c3acbca-c7bc-4deb-94ee-e621337274be",
   "metadata": {},
   "source": [
    "Q10) Create a Python program that prints the Fibonacci sequence up to a specified limit using a for loop."
   ]
  },
  {
   "cell_type": "code",
   "execution_count": 9,
   "id": "7ccb8953-3bc3-4b68-be4c-295ac7f098ba",
   "metadata": {},
   "outputs": [
    {
     "name": "stdout",
     "output_type": "stream",
     "text": [
      "0 1 1 2 3 5 8 13 21 34 "
     ]
    }
   ],
   "source": [
    "limit = 10  \n",
    "a, b = 0, 1\n",
    "for _ in range(limit):\n",
    "    print(a, end=\" \")\n",
    "    a, b = b, a + b"
   ]
  },
  {
   "cell_type": "markdown",
   "id": "11926755-75f5-4712-a02d-185574528d47",
   "metadata": {},
   "source": [
    "Q11) Write a Python program to count the number of vowels in a given string using a for loop"
   ]
  },
  {
   "cell_type": "code",
   "execution_count": 10,
   "id": "ef7e5022-fd4c-4f73-a733-0d2c69c1af03",
   "metadata": {},
   "outputs": [
    {
     "name": "stdin",
     "output_type": "stream",
     "text": [
      "Enter a string:  my name is abdul kalam\n"
     ]
    },
    {
     "name": "stdout",
     "output_type": "stream",
     "text": [
      "Number of vowels: 7\n"
     ]
    }
   ],
   "source": [
    "# Input string\n",
    "input_string = input(\"Enter a string: \")\n",
    "\n",
    "# Convert the input string to lowercase to make it case-insensitive\n",
    "input_string = input_string.lower()\n",
    "\n",
    "# Initialize a variable to keep track of the vowel count\n",
    "vowel_count = 0\n",
    "\n",
    "# Define a set of vowels\n",
    "vowels = {'a', 'e', 'i', 'o', 'u'}\n",
    "\n",
    "# Iterate through each character in the input string\n",
    "for char in input_string:\n",
    "    # Check if the character is a vowel\n",
    "    if char in vowels:\n",
    "        vowel_count += 1\n",
    "\n",
    "# Print the total number of vowels in the string\n",
    "print(\"Number of vowels:\", vowel_count)"
   ]
  },
  {
   "cell_type": "markdown",
   "id": "2f53e663-2957-429f-aedc-5475e1ae7fa9",
   "metadata": {},
   "source": [
    "Q12)Create a Python program that generates a multiplication table for a given number using a for loop."
   ]
  },
  {
   "cell_type": "code",
   "execution_count": 11,
   "id": "10926c91-2944-40ca-8f62-56ec7be5e865",
   "metadata": {},
   "outputs": [
    {
     "name": "stdin",
     "output_type": "stream",
     "text": [
      "Enter a number:  56\n"
     ]
    },
    {
     "name": "stdout",
     "output_type": "stream",
     "text": [
      "56 x 1 = 56\n",
      "56 x 2 = 112\n",
      "56 x 3 = 168\n",
      "56 x 4 = 224\n",
      "56 x 5 = 280\n",
      "56 x 6 = 336\n",
      "56 x 7 = 392\n",
      "56 x 8 = 448\n",
      "56 x 9 = 504\n",
      "56 x 10 = 560\n"
     ]
    }
   ],
   "source": [
    "def multiplication_table(number):\n",
    "    for i in range(1, 11):\n",
    "        print(f\"{number} x {i} = {number * i}\")\n",
    "\n",
    "\n",
    "number = int(input(\"Enter a number: \"))\n",
    "\n",
    "multiplication_table(number)"
   ]
  },
  {
   "cell_type": "markdown",
   "id": "146b6af1-ce48-468f-8881-0f68476bd52f",
   "metadata": {},
   "source": [
    "Q13)Write a Python program to reverse a list using a for loop."
   ]
  },
  {
   "cell_type": "code",
   "execution_count": 12,
   "id": "7bdef48c-fb2d-43af-9b5b-b50049fc6e68",
   "metadata": {},
   "outputs": [
    {
     "name": "stdout",
     "output_type": "stream",
     "text": [
      "[5, 4, 3, 2, 1]\n"
     ]
    }
   ],
   "source": [
    "def reverse_list(list1):\n",
    "    reversed_list = []\n",
    "\n",
    "    for i in range(len(list1) - 1, -1, -1):\n",
    "        reversed_list.append(list1[i])\n",
    "\n",
    "    return reversed_list\n",
    "\n",
    "\n",
    "list1 = [1, 2, 3, 4, 5]\n",
    "\n",
    "reversed_list = reverse_list(list1)\n",
    "\n",
    "print(reversed_list)"
   ]
  },
  {
   "cell_type": "markdown",
   "id": "6b9b3bae-437a-45b1-a4f2-f6c67395dbb2",
   "metadata": {},
   "source": [
    "Q14)Write a Python program to find the common elements between two lists using a for loop."
   ]
  },
  {
   "cell_type": "code",
   "execution_count": 13,
   "id": "734d0896-0a81-451b-814a-85434db576e6",
   "metadata": {},
   "outputs": [
    {
     "name": "stdout",
     "output_type": "stream",
     "text": [
      "[3, 4, 5]\n"
     ]
    }
   ],
   "source": [
    "def find_common_elements(list1, list2):\n",
    "    common_elements = []\n",
    "\n",
    "    for element in list1:\n",
    "        if element in list2:\n",
    "            common_elements.append(element)\n",
    "\n",
    "    return common_elements\n",
    "\n",
    "\n",
    "list1 = [1, 2, 3, 4, 5]\n",
    "list2 = [3, 4, 5, 6, 7]\n",
    "\n",
    "common_elements = find_common_elements(list1, list2)\n",
    "\n",
    "print(common_elements)"
   ]
  },
  {
   "cell_type": "markdown",
   "id": "3945acb3-1cfc-49af-870e-16b54c553047",
   "metadata": {},
   "source": [
    "Q15)Explain how to use a for loop to iterate through the keys and values of a dictionary in Python."
   ]
  },
  {
   "cell_type": "code",
   "execution_count": 14,
   "id": "9f8b751a-8b7e-4649-93f1-3cefb68141c7",
   "metadata": {},
   "outputs": [
    {
     "name": "stdout",
     "output_type": "stream",
     "text": [
      "name: John Doe\n",
      "age: 30\n",
      "occupation: Software Engineer\n"
     ]
    }
   ],
   "source": [
    "dictionary = {\"name\": \"John Doe\", \"age\": 30, \"occupation\": \"Software Engineer\"}\n",
    "\n",
    "for key, value in dictionary.items():\n",
    "    print(f\"{key}: {value}\")"
   ]
  },
  {
   "cell_type": "markdown",
   "id": "b5c104e4-d947-4a38-b42f-c66427b918cb",
   "metadata": {},
   "source": [
    "Q16)Write a Python program to find the GCD (Greatest Common Divisor) of two numbers using a for loop."
   ]
  },
  {
   "cell_type": "code",
   "execution_count": 15,
   "id": "84f70b19-f24d-4bc2-be07-de9e4a922c6b",
   "metadata": {},
   "outputs": [
    {
     "name": "stdin",
     "output_type": "stream",
     "text": [
      "Enter the first number:  56\n",
      "Enter the second number:  568\n"
     ]
    },
    {
     "name": "stdout",
     "output_type": "stream",
     "text": [
      "The GCD of 56 and 568 is 8\n"
     ]
    }
   ],
   "source": [
    "def find_gcd(number1, number2):\n",
    "    for i in range(1, min(number1, number2) + 1):\n",
    "        if number1 % i == 0 and number2 % i == 0:\n",
    "            gcd = i\n",
    "\n",
    "    return gcd\n",
    "\n",
    "\n",
    "number1 = int(input(\"Enter the first number: \"))\n",
    "number2 = int(input(\"Enter the second number: \"))\n",
    "\n",
    "gcd = find_gcd(number1, number2)\n",
    "\n",
    "print(f\"The GCD of {number1} and {number2} is {gcd}\")"
   ]
  },
  {
   "cell_type": "markdown",
   "id": "8c1c16ac-dfea-43d2-867b-f43b5d82540d",
   "metadata": {},
   "source": [
    "Q17)Create a Python program that checks if a string is a palindrome using a for loop."
   ]
  },
  {
   "cell_type": "code",
   "execution_count": 16,
   "id": "b04be30d-d863-4b30-b40d-7296e8d160ab",
   "metadata": {},
   "outputs": [
    {
     "name": "stdout",
     "output_type": "stream",
     "text": [
      "The string is a palindrome.\n"
     ]
    }
   ],
   "source": [
    "def check_palindrome(string):\n",
    "    reversed_string = \"\"\n",
    "\n",
    "    for i in range(len(string) - 1, -1, -1):\n",
    "        reversed_string += string[i]\n",
    "\n",
    "    return string == reversed_string\n",
    "\n",
    "\n",
    "string = \"madam\"\n",
    "\n",
    "if check_palindrome(string):\n",
    "    print(\"The string is a palindrome.\")\n",
    "else:\n",
    "    print(\"The string is not a palindrome.\")"
   ]
  },
  {
   "cell_type": "markdown",
   "id": "d6d9fb75-e9ae-4181-abdc-6aa5ac3c275e",
   "metadata": {},
   "source": [
    "Q18)Write a Python program to remove duplicates from a list using a for loop."
   ]
  },
  {
   "cell_type": "code",
   "execution_count": 17,
   "id": "759d0e85-b19c-4091-ac7a-04a55bb93cba",
   "metadata": {},
   "outputs": [
    {
     "name": "stdout",
     "output_type": "stream",
     "text": [
      "[1, 2, 3, 4, 5]\n"
     ]
    }
   ],
   "source": [
    "def remove_duplicates(list1):\n",
    "    unique_list = []\n",
    "\n",
    "    for element in list1:\n",
    "        if element not in unique_list:\n",
    "            unique_list.append(element)\n",
    "\n",
    "    return unique_list\n",
    "\n",
    "\n",
    "list1 = [1, 2, 3, 4, 5, 1, 2, 3]\n",
    "\n",
    "unique_list = remove_duplicates(list1)\n",
    "\n",
    "print(unique_list)"
   ]
  },
  {
   "cell_type": "markdown",
   "id": "0d7266f3-39a0-4eec-8489-8633f9b2f7da",
   "metadata": {},
   "source": [
    "Q19)Create a Python program that counts the number of words in a sentence using a for loop."
   ]
  },
  {
   "cell_type": "code",
   "execution_count": 18,
   "id": "beb6b381-a242-4d3a-8f26-9b744acbea3e",
   "metadata": {},
   "outputs": [
    {
     "name": "stdout",
     "output_type": "stream",
     "text": [
      "The number of words in the sentence is 4.\n"
     ]
    }
   ],
   "source": [
    "def count_words(sentence):\n",
    "    word_count = 0\n",
    "\n",
    "    for word in sentence.split():\n",
    "        word_count += 1\n",
    "\n",
    "    return word_count\n",
    "\n",
    "\n",
    "sentence = \"This is a sentence.\"\n",
    "\n",
    "word_count = count_words(sentence)\n",
    "\n",
    "print(f\"The number of words in the sentence is {word_count}.\")"
   ]
  },
  {
   "cell_type": "markdown",
   "id": "ed029cb2-b41d-44c2-b33a-fad2c1c55f2e",
   "metadata": {},
   "source": [
    "Q20)Write a Python program to find the sum of all odd numbers from 1 to 50 using a for loop."
   ]
  },
  {
   "cell_type": "code",
   "execution_count": 19,
   "id": "20915162-3a5b-45a4-ab60-ba0cf1e4e291",
   "metadata": {},
   "outputs": [
    {
     "name": "stdout",
     "output_type": "stream",
     "text": [
      "The sum of all odd numbers from 1 to 50 is 625.\n"
     ]
    }
   ],
   "source": [
    "def sum_of_odd_numbers(n):\n",
    "    sum = 0\n",
    "\n",
    "    for i in range(1, n + 1, 2):\n",
    "        sum += i\n",
    "\n",
    "    return sum\n",
    "\n",
    "\n",
    "n = 50\n",
    "\n",
    "sum = sum_of_odd_numbers(n)\n",
    "\n",
    "print(f\"The sum of all odd numbers from 1 to {n} is {sum}.\")"
   ]
  },
  {
   "cell_type": "markdown",
   "id": "6ab04843-f5cc-4b9b-9322-ca8b50f44642",
   "metadata": {},
   "source": [
    "Q21)Write a Python program that checks if a given year is a leap year using a for loop."
   ]
  },
  {
   "cell_type": "code",
   "execution_count": 20,
   "id": "88a04fae-1c4b-4adc-b529-1c8ff76ab6bc",
   "metadata": {},
   "outputs": [
    {
     "name": "stdin",
     "output_type": "stream",
     "text": [
      "Enter a year:  2004\n"
     ]
    },
    {
     "name": "stdout",
     "output_type": "stream",
     "text": [
      "The year 2004 is a leap year.\n"
     ]
    }
   ],
   "source": [
    "def is_leap_year(year):\n",
    "    if year % 4 == 0 and (year % 100 != 0 or year % 400 == 0):\n",
    "        return True\n",
    "    else:\n",
    "        return False\n",
    "\n",
    "\n",
    "year = int(input(\"Enter a year: \"))\n",
    "\n",
    "if is_leap_year(year):\n",
    "    print(f\"The year {year} is a leap year.\")\n",
    "else:\n",
    "    print(f\"The year {year} is not a leap year.\")"
   ]
  },
  {
   "cell_type": "markdown",
   "id": "4351fca6-cf79-445e-b92e-b688e62c4e91",
   "metadata": {},
   "source": [
    "Q22)Create a Python program that calculates the square root of a number using a for loop.\n"
   ]
  },
  {
   "cell_type": "code",
   "execution_count": 21,
   "id": "fc4edb97-35a0-4b76-b22a-d7b9e3a313dc",
   "metadata": {},
   "outputs": [
    {
     "name": "stdin",
     "output_type": "stream",
     "text": [
      "Enter a number:  56\n"
     ]
    },
    {
     "name": "stdout",
     "output_type": "stream",
     "text": [
      "The number 56 does not have a perfect square root.\n"
     ]
    }
   ],
   "source": [
    "def calculate_square_root(number):\n",
    "    for i in range(1, number + 1):\n",
    "        if i * i == number:\n",
    "            return i\n",
    "\n",
    "    return None\n",
    "\n",
    "\n",
    "number = int(input(\"Enter a number: \"))\n",
    "\n",
    "square_root = calculate_square_root(number)\n",
    "\n",
    "if square_root is not None:\n",
    "    print(f\"The square root of {number} is {square_root}.\")\n",
    "else:\n",
    "    print(f\"The number {number} does not have a perfect square root.\")"
   ]
  },
  {
   "cell_type": "markdown",
   "id": "a55764bc-3c87-4143-8d11-9995a7c1fb88",
   "metadata": {},
   "source": [
    "Q23)Write a Python program to find the LCM (Least Common Multiple) of two numbers using a for loop."
   ]
  },
  {
   "cell_type": "code",
   "execution_count": 22,
   "id": "c8fc7d8b-b4c3-4ba6-82a8-ca42eabf602a",
   "metadata": {},
   "outputs": [
    {
     "name": "stdin",
     "output_type": "stream",
     "text": [
      "Enter the first number:  78\n",
      "Enter the second number:  96\n"
     ]
    },
    {
     "name": "stdout",
     "output_type": "stream",
     "text": [
      "The LCM of 78 and 96 is 1248.\n"
     ]
    }
   ],
   "source": [
    "def find_lcm(number1, number2):\n",
    "    lcm = max(number1, number2)\n",
    "\n",
    "    while lcm % number1 != 0 or lcm % number2 != 0:\n",
    "        lcm += 1\n",
    "\n",
    "    return lcm\n",
    "\n",
    "\n",
    "number1 = int(input(\"Enter the first number: \"))\n",
    "number2 = int(input(\"Enter the second number: \"))\n",
    "\n",
    "lcm = find_lcm(number1, number2)\n",
    "\n",
    "print(f\"The LCM of {number1} and {number2} is {lcm}.\")"
   ]
  },
  {
   "cell_type": "markdown",
   "id": "b2596462-1b9f-40d0-9ef2-5f6f97301a55",
   "metadata": {},
   "source": [
    "Completed................."
   ]
  },
  {
   "cell_type": "markdown",
   "id": "5a151a82-d6af-4787-a022-7a57da44a21c",
   "metadata": {},
   "source": [
    "If else :"
   ]
  },
  {
   "cell_type": "markdown",
   "id": "451878ed-219e-488e-bcf4-7857ad33468d",
   "metadata": {},
   "source": [
    "Q1) Write a Python program to check if a number is positive, negative, or zero using an if-else statement."
   ]
  },
  {
   "cell_type": "code",
   "execution_count": 23,
   "id": "0e12c056-ca6a-4c53-9df9-09a96f35aedf",
   "metadata": {},
   "outputs": [
    {
     "name": "stdout",
     "output_type": "stream",
     "text": [
      "positive\n",
      "negative\n",
      "zero\n"
     ]
    }
   ],
   "source": [
    "def check_positive_negative_zero(num):\n",
    "  \"\"\"\n",
    "  Checks if a number is positive, negative, or zero.\n",
    "\n",
    "  Args:\n",
    "    num: A number.\n",
    "\n",
    "  Returns:\n",
    "    A string indicating whether the number is positive, negative, or zero.\n",
    "  \"\"\"\n",
    "\n",
    "  if num > 0:\n",
    "    return \"positive\"\n",
    "  elif num < 0:\n",
    "    return \"negative\"\n",
    "  else:\n",
    "    return \"zero\"\n",
    "\n",
    "print(check_positive_negative_zero(10)) \n",
    "print(check_positive_negative_zero(-10))  \n",
    "print(check_positive_negative_zero(0))  "
   ]
  },
  {
   "cell_type": "markdown",
   "id": "2e6c5779-1000-479c-8a95-f9549e3e783b",
   "metadata": {},
   "source": [
    "Q2) Create a Python program that checks if a given number is even or odd using an if-else statement"
   ]
  },
  {
   "cell_type": "code",
   "execution_count": 24,
   "id": "6e1aed37-5768-4c1d-96e1-831484a57d82",
   "metadata": {},
   "outputs": [
    {
     "name": "stdout",
     "output_type": "stream",
     "text": [
      "even\n",
      "odd\n"
     ]
    }
   ],
   "source": [
    "def check_even_odd(num):\n",
    "  \"\"\"\n",
    "  Checks if a number is even or odd.\n",
    "\n",
    "  Args:\n",
    "    num: A number.\n",
    "\n",
    "  Returns:\n",
    "    A string indicating whether the number is even or odd.\n",
    "  \"\"\"\n",
    "\n",
    "  if num % 2 == 0:\n",
    "    return \"even\"\n",
    "  else:\n",
    "    return \"odd\"\n",
    "\n",
    "\n",
    "\n",
    "print(check_even_odd(10))  \n",
    "print(check_even_odd(11))  "
   ]
  },
  {
   "cell_type": "markdown",
   "id": "123553c0-da6e-4d62-a721-d77a365b002e",
   "metadata": {},
   "source": [
    "Q3)How can you use nested if-else statements in Python, and provide an example?"
   ]
  },
  {
   "cell_type": "code",
   "execution_count": 25,
   "id": "74a78f17-17b8-4484-ae00-89a05d46912a",
   "metadata": {},
   "outputs": [
    {
     "name": "stdout",
     "output_type": "stream",
     "text": [
      "The number is positive.\n",
      "The number is negative.\n",
      "The number is even.\n"
     ]
    }
   ],
   "source": [
    "def check_positive_negative_zero_with_nested_if_else(num):\n",
    "  \"\"\"\n",
    "  Checks if a number is positive, negative, or zero using a nested if-else statement.\n",
    "\n",
    "  Args:\n",
    "    num: A number.\n",
    "\n",
    "  Returns:\n",
    "    A string indicating whether the number is positive, negative, or zero.\n",
    "  \"\"\"\n",
    "\n",
    "  if num > 0:\n",
    "    return \"The number is positive.\"\n",
    "  elif num < 0:\n",
    "    return \"The number is negative.\"\n",
    "  else:\n",
    "\n",
    "    if num % 2 == 0:\n",
    "      return \"The number is even.\"\n",
    "    else:\n",
    "      return \"The number is odd.\"\n",
    "\n",
    "\n",
    "# Example usage:\n",
    "\n",
    "print(check_positive_negative_zero_with_nested_if_else(10))  \n",
    "print(check_positive_negative_zero_with_nested_if_else(-10))  \n",
    "print(check_positive_negative_zero_with_nested_if_else(0))  "
   ]
  },
  {
   "cell_type": "markdown",
   "id": "79ac0ab7-5baa-4c5a-b1c4-f48b594b5489",
   "metadata": {},
   "source": [
    "Q4)Write a Python program to determine the largest of three numbers using if-else."
   ]
  },
  {
   "cell_type": "code",
   "execution_count": 26,
   "id": "1e659d97-780d-414f-ac69-007d88b0e50e",
   "metadata": {},
   "outputs": [
    {
     "name": "stdout",
     "output_type": "stream",
     "text": [
      "30\n"
     ]
    }
   ],
   "source": [
    "def largest_of_three(num1, num2, num3):\n",
    "  \"\"\"\n",
    "  Finds the largest of three numbers.\n",
    "\n",
    "  Args:\n",
    "    num1: A number.\n",
    "    num2: A number.\n",
    "    num3: A number.\n",
    "\n",
    "  Returns:\n",
    "    The largest of the three numbers.\n",
    "  \"\"\"\n",
    "\n",
    "  if num1 >= num2 and num1 >= num3:\n",
    "    return num1\n",
    "  elif num2 >= num1 and num2 >= num3:\n",
    "    return num2\n",
    "  else:\n",
    "    return num3\n",
    "\n",
    "\n",
    "\n",
    "print(largest_of_three(10, 20, 30))  "
   ]
  },
  {
   "cell_type": "markdown",
   "id": "6f3394a4-0808-4686-8816-bb708739d037",
   "metadata": {},
   "source": [
    "Q5)Write a Python program that calculates the absolute value of a number using if-else."
   ]
  },
  {
   "cell_type": "code",
   "execution_count": 27,
   "id": "68939b7b",
   "metadata": {},
   "outputs": [
    {
     "name": "stdin",
     "output_type": "stream",
     "text": [
      "Enter a number:  45\n"
     ]
    },
    {
     "name": "stdout",
     "output_type": "stream",
     "text": [
      "Absolute value: 45.0\n"
     ]
    }
   ],
   "source": [
    "num = float(input(\"Enter a number: \"))\n",
    "if num < 0:\n",
    "    absolute_value = -num\n",
    "else:\n",
    "    absolute_value = num\n",
    "print(\"Absolute value:\", absolute_value)"
   ]
  },
  {
   "cell_type": "markdown",
   "id": "af95738c-e582-4295-80dc-dcf6fde562c5",
   "metadata": {},
   "source": [
    "Q6) Create a Python program that checks if a given character is a vowel or consonant using if-else."
   ]
  },
  {
   "cell_type": "code",
   "execution_count": 28,
   "id": "0fa84b67-8918-4021-8ef5-ee9986bd1ccf",
   "metadata": {},
   "outputs": [
    {
     "name": "stdin",
     "output_type": "stream",
     "text": [
      "Enter a character:  my name is khan\n"
     ]
    },
    {
     "name": "stdout",
     "output_type": "stream",
     "text": [
      "It's a consonant.\n"
     ]
    }
   ],
   "source": [
    "char = input(\"Enter a character: \").lower()\n",
    "if char in 'aeiou':\n",
    "    print(\"It's a vowel.\")\n",
    "else:\n",
    "    print(\"It's a consonant.\")"
   ]
  },
  {
   "cell_type": "markdown",
   "id": "7f4e9a8b-2e46-490d-ae3e-34b4b2f83d1f",
   "metadata": {},
   "source": [
    "Q7) Write a Python program to determine if a user is eligible to vote based on their age using if-else."
   ]
  },
  {
   "cell_type": "code",
   "execution_count": 29,
   "id": "719d4d01-0c76-4d3f-bfbe-b9f82e913178",
   "metadata": {},
   "outputs": [
    {
     "name": "stdin",
     "output_type": "stream",
     "text": [
      "Enter your age:  20\n"
     ]
    },
    {
     "name": "stdout",
     "output_type": "stream",
     "text": [
      "You are eligible to vote.\n"
     ]
    }
   ],
   "source": [
    "age = int(input(\"Enter your age: \"))\n",
    "if age >= 18:\n",
    "    print(\"You are eligible to vote.\")\n",
    "else:\n",
    "    print(\"You are not eligible to vote.\")"
   ]
  },
  {
   "cell_type": "code",
   "execution_count": 31,
   "id": "c633b102-db51-4a49-8d3d-6e805eb37409",
   "metadata": {},
   "outputs": [
    {
     "ename": "SyntaxError",
     "evalue": "unmatched ')' (2294956903.py, line 1)",
     "output_type": "error",
     "traceback": [
      "\u001b[0;36m  Cell \u001b[0;32mIn[31], line 1\u001b[0;36m\u001b[0m\n\u001b[0;31m    Q8) Create a Python program that calculates the discount amount based on the purchase amount using if-else.\u001b[0m\n\u001b[0m      ^\u001b[0m\n\u001b[0;31mSyntaxError\u001b[0m\u001b[0;31m:\u001b[0m unmatched ')'\n"
     ]
    }
   ],
   "source": [
    "Q8) Create a Python program that calculates the discount amount based on the purchase amount using if-else.\n",
    "\n",
    "purchase_amount = float(input(\"Enter the purchase amount: \"))\n",
    "if purchase_amount > 1000:\n",
    "    discount = 0.1 * purchase_amount\n",
    "else:\n",
    "    discount = 0\n",
    "print(\"Discount amount:\", discount)"
   ]
  },
  {
   "cell_type": "markdown",
   "id": "cb1a9bc1-3007-4024-a87d-0b10a9cc9945",
   "metadata": {},
   "source": [
    "Q9) Write a Python program to check if a number is within a specified range using if-else."
   ]
  },
  {
   "cell_type": "code",
   "execution_count": 32,
   "id": "0328ce69-8402-4fbc-9cf5-00cd580b576a",
   "metadata": {},
   "outputs": [
    {
     "name": "stdin",
     "output_type": "stream",
     "text": [
      "Enter a number:  56\n"
     ]
    },
    {
     "name": "stdout",
     "output_type": "stream",
     "text": [
      "Number is outside the range.\n"
     ]
    }
   ],
   "source": [
    "number = float(input(\"Enter a number: \"))\n",
    "if 10 <= number <= 50:\n",
    "    print(\"Number is within the range.\")\n",
    "else:\n",
    "    print(\"Number is outside the range.\")"
   ]
  },
  {
   "cell_type": "markdown",
   "id": "5fa82e6e-e312-404b-ab79-a6b3dfc48516",
   "metadata": {},
   "source": [
    "Q10) Create a Python program that determines the grade of a student based on their score using if-else."
   ]
  },
  {
   "cell_type": "code",
   "execution_count": 33,
   "id": "3dc3be04-efd7-4118-b2c5-d0b2a2ca8d65",
   "metadata": {},
   "outputs": [
    {
     "name": "stdin",
     "output_type": "stream",
     "text": [
      "Enter your score:  56\n"
     ]
    },
    {
     "name": "stdout",
     "output_type": "stream",
     "text": [
      "Your grade is: F\n"
     ]
    }
   ],
   "source": [
    "score = float(input(\"Enter your score: \"))\n",
    "if 90 <= score <= 100:\n",
    "    grade = \"A\"\n",
    "elif 80 <= score < 90:\n",
    "    grade = \"B\"\n",
    "elif 70 <= score < 80:\n",
    "    grade = \"C\"\n",
    "elif 60 <= score < 70:\n",
    "    grade = \"D\"\n",
    "else:\n",
    "    grade = \"F\"\n",
    "print(\"Your grade is:\", grade)"
   ]
  },
  {
   "cell_type": "markdown",
   "id": "6c9636b2-ad9f-4b5e-80a6-5cf519a77fa2",
   "metadata": {},
   "source": [
    "Q11) Write a Python program to check if a string is empty or not using if-else."
   ]
  },
  {
   "cell_type": "code",
   "execution_count": 34,
   "id": "ae9c3c0d-4f56-415b-894c-00c6a5db5a80",
   "metadata": {},
   "outputs": [
    {
     "name": "stdin",
     "output_type": "stream",
     "text": [
      "Enter a string:  My name is khan\n"
     ]
    },
    {
     "name": "stdout",
     "output_type": "stream",
     "text": [
      "The string is not empty.\n"
     ]
    }
   ],
   "source": [
    "text = input(\"Enter a string: \")\n",
    "if text:\n",
    "    print(\"The string is not empty.\")\n",
    "else:\n",
    "    print(\"The string is empty.\")"
   ]
  },
  {
   "cell_type": "markdown",
   "id": "78df9a96-4b7e-45d5-a0e9-93958b661d4b",
   "metadata": {},
   "source": [
    "Q12) Create a Python program that identifies the type of a triangle (e.g., equilateral, isosceles, or scalene) based on input values using if-else."
   ]
  },
  {
   "cell_type": "code",
   "execution_count": 38,
   "id": "09bf1239-7f67-45be-a6db-855c71d78d5b",
   "metadata": {},
   "outputs": [
    {
     "name": "stdin",
     "output_type": "stream",
     "text": [
      "Enter the length of side 1:  20\n",
      "Enter the length of side 2:  21\n",
      "Enter the length of side 3:  24\n"
     ]
    },
    {
     "name": "stdout",
     "output_type": "stream",
     "text": [
      "It's a Scalene triangle.\n"
     ]
    }
   ],
   "source": [
    " side1 = float(input(\"Enter the length of side 1: \"))\n",
    "side2 = float(input(\"Enter the length of side 2: \"))\n",
    "side3 = float(input(\"Enter the length of side 3: \"))\n",
    "\n",
    "if side1 == side2 == side3:\n",
    "    triangle_type = \"Equilateral\"\n",
    "elif side1 == side2 or side2 == side3 or side1 == side3:\n",
    "    triangle_type = \"Isosceles\"\n",
    "else:\n",
    "    triangle_type = \"Scalene\"\n",
    "\n",
    "print(\"It's a\", triangle_type, \"triangle.\")"
   ]
  },
  {
   "cell_type": "markdown",
   "id": "cd881e7a-a52c-45db-a139-435f43391172",
   "metadata": {},
   "source": [
    "Q13) Write a Python program to determine the day of the week based on a user-provided number using if-else."
   ]
  },
  {
   "cell_type": "code",
   "execution_count": 39,
   "id": "519394c1-6944-40b3-99fe-739c32309031",
   "metadata": {},
   "outputs": [
    {
     "name": "stdin",
     "output_type": "stream",
     "text": [
      "Enter a number (1-7) for the day of the week:  5\n"
     ]
    },
    {
     "name": "stdout",
     "output_type": "stream",
     "text": [
      "Day: Thursday\n"
     ]
    }
   ],
   "source": [
    "day_number = int(input(\"Enter a number (1-7) for the day of the week: \"))\n",
    "\n",
    "if day_number == 1:\n",
    "    day = \"Sunday\"\n",
    "elif day_number == 2:\n",
    "    day = \"Monday\"\n",
    "elif day_number == 3:\n",
    "    day = \"Tuesday\"\n",
    "elif day_number == 4:\n",
    "    day = \"Wednesday\"\n",
    "elif day_number == 5:\n",
    "    day = \"Thursday\"\n",
    "elif day_number == 6:\n",
    "    day = \"Friday\"\n",
    "elif day_number == 7:\n",
    "    day = \"Saturday\"\n",
    "else:\n",
    "    day = \"Invalid input\"\n",
    "print(\"Day:\", day)"
   ]
  },
  {
   "cell_type": "markdown",
   "id": "e98954a4-5ddc-46ec-884f-38609dbe3a0f",
   "metadata": {},
   "source": [
    "Q14) Create a Python program that checks if a given year is a leap year using both if-else and a function."
   ]
  },
  {
   "cell_type": "code",
   "execution_count": 41,
   "id": "9e6a93d5-3b08-4f76-a981-9c8882b9d25d",
   "metadata": {},
   "outputs": [
    {
     "name": "stdin",
     "output_type": "stream",
     "text": [
      "Enter a year:  2003\n"
     ]
    },
    {
     "name": "stdout",
     "output_type": "stream",
     "text": [
      "2003 is not a leap year.\n"
     ]
    }
   ],
   "source": [
    "def is_leap_year(year):\n",
    "    if (year % 4 == 0 and year % 100 != 0) or (year % 400 == 0):\n",
    "        return True\n",
    "    else:\n",
    "        return False\n",
    "\n",
    "year = int(input(\"Enter a year: \"))\n",
    "if is_leap_year(year):\n",
    "    print(year, \"is a leap year.\")\n",
    "else:\n",
    "    print(year, \"is not a leap year.\")"
   ]
  },
  {
   "cell_type": "markdown",
   "id": "51f757a9-542a-41f6-b8a4-42230db0ae62",
   "metadata": {},
   "source": [
    "Q15) How do you use the \"assert\" statement in Python to add debugging checks within if-else blocks?"
   ]
  },
  {
   "cell_type": "code",
   "execution_count": 42,
   "id": "e31eba40-2dda-4baf-bb8f-351806699edc",
   "metadata": {},
   "outputs": [],
   "source": [
    "x = 5\n",
    "assert x > 0, \"x should be greater than 0\""
   ]
  },
  {
   "cell_type": "markdown",
   "id": "5808d56c-82c3-4999-a139-fb4049ff7484",
   "metadata": {},
   "source": [
    "Q16) Create a Python program that determines the eligibility of a person for a senior citizen discount based on age using if-else."
   ]
  },
  {
   "cell_type": "code",
   "execution_count": 43,
   "id": "c4ef4af4-0a85-435f-a5d7-41dff5869933",
   "metadata": {},
   "outputs": [
    {
     "name": "stdin",
     "output_type": "stream",
     "text": [
      "Enter your age:  20\n"
     ]
    },
    {
     "name": "stdout",
     "output_type": "stream",
     "text": [
      "You are not eligible for a senior citizen discount.\n"
     ]
    }
   ],
   "source": [
    "age = int(input(\"Enter your age: \"))\n",
    "if age >= 60:\n",
    "    print(\"You are eligible for a senior citizen discount.\")\n",
    "else:\n",
    "    print(\"You are not eligible for a senior citizen discount.\")"
   ]
  },
  {
   "cell_type": "markdown",
   "id": "7b1064ea-30df-42ab-a986-878b9b63ca4c",
   "metadata": {},
   "source": [
    "Q17) Write a Python program to categorize a given character as uppercase, lowercase, or neither using if-else."
   ]
  },
  {
   "cell_type": "code",
   "execution_count": 44,
   "id": "40ac3d1a-9b8a-488a-b1ff-b9704cc4e85a",
   "metadata": {},
   "outputs": [
    {
     "name": "stdin",
     "output_type": "stream",
     "text": [
      "Enter a character:  my name is khan\n"
     ]
    },
    {
     "name": "stdout",
     "output_type": "stream",
     "text": [
      "The character is lowercase.\n"
     ]
    }
   ],
   "source": [
    "char = input(\"Enter a character: \")\n",
    "\n",
    "if char.isupper():\n",
    "    print(\"The character is uppercase.\")\n",
    "elif char.islower():\n",
    "    print(\"The character is lowercase.\")\n",
    "else:\n",
    "    print(\"The character is neither uppercase nor lowercase.\")"
   ]
  },
  {
   "cell_type": "markdown",
   "id": "9a4c8f49-3682-46a3-a314-41599a318610",
   "metadata": {},
   "source": [
    "Q18) Write a Python program to determine the roots of a quadratic equation using if-else."
   ]
  },
  {
   "cell_type": "code",
   "execution_count": 45,
   "id": "35e42e86-32c6-46de-94b2-c0d915dfe230",
   "metadata": {},
   "outputs": [
    {
     "name": "stdin",
     "output_type": "stream",
     "text": [
      "Enter coefficient a:  2\n",
      "Enter coefficient b:  5\n",
      "Enter coefficient c:  6\n"
     ]
    },
    {
     "name": "stdout",
     "output_type": "stream",
     "text": [
      "Roots are complex.\n",
      "Root 1: -1.25 + 1.1989578808281798 i\n",
      "Root 2: -1.25 - 1.1989578808281798 i\n"
     ]
    }
   ],
   "source": [
    "import math\n",
    "\n",
    "a = float(input(\"Enter coefficient a: \"))\n",
    "b = float(input(\"Enter coefficient b: \"))\n",
    "c = float(input(\"Enter coefficient c: \"))\n",
    "\n",
    "discriminant = b ** 2 - 4 * a * c\n",
    "\n",
    "if discriminant > 0:\n",
    "    root1 = (-b + math.sqrt(discriminant)) / (2 * a)\n",
    "    root2 = (-b - math.sqrt(discriminant)) / (2 * a)\n",
    "    print(\"Roots are real and different.\")\n",
    "    print(\"Root 1:\", root1)\n",
    "    print(\"Root 2:\", root2)\n",
    "elif discriminant == 0:\n",
    "    root1 = root2 = -b / (2 * a)\n",
    "    print(\"Roots are real and identical.\")\n",
    "    print(\"Root 1 and Root 2:\", root1)\n",
    "else:\n",
    "    real_part = -b / (2 * a)\n",
    "    imaginary_part = math.sqrt(-discriminant) / (2 * a)\n",
    "    print(\"Roots are complex.\")\n",
    "    print(\"Root 1:\", real_part, \"+\", imaginary_part, \"i\")\n",
    "    print(\"Root 2:\", real_part, \"-\", imaginary_part, \"i\")"
   ]
  },
  {
   "cell_type": "markdown",
   "id": "1cf186a1-fcfc-4000-9770-51d2c98a675a",
   "metadata": {},
   "source": [
    "Q19) Create a Python program that checks if a given year is a century year or not using if-else."
   ]
  },
  {
   "cell_type": "code",
   "execution_count": 46,
   "id": "b58aa023-fa5c-4f33-806f-1640e7288493",
   "metadata": {},
   "outputs": [
    {
     "name": "stdin",
     "output_type": "stream",
     "text": [
      "Enter a year:  2004\n"
     ]
    },
    {
     "name": "stdout",
     "output_type": "stream",
     "text": [
      "2004 is a leap year.\n"
     ]
    }
   ],
   "source": [
    "year = int(input(\"Enter a year: \"))\n",
    "\n",
    "if year % 100 == 0 and year % 400 != 0:\n",
    "    print(year, \"is not a leap year.\")\n",
    "else:\n",
    "    print(year, \"is a leap year.\")"
   ]
  },
  {
   "cell_type": "markdown",
   "id": "ce720a5d-ec06-4022-8ce8-3a0004288d9d",
   "metadata": {},
   "source": [
    "Q20) Write a Python program to determine if a given number is a perfect square using if-else."
   ]
  },
  {
   "cell_type": "code",
   "execution_count": 20,
   "id": "6f9fbdec-90b5-4cd8-aa73-88c327ce520c",
   "metadata": {},
   "outputs": [
    {
     "name": "stdin",
     "output_type": "stream",
     "text": [
      "Enter a number:  255\n"
     ]
    },
    {
     "name": "stdout",
     "output_type": "stream",
     "text": [
      "255 is not a perfect square.\n"
     ]
    }
   ],
   "source": [
    "import math\n",
    "\n",
    "num = int(input(\"Enter a number: \"))\n",
    "sqrt = math.isqrt(num)\n",
    "\n",
    "if sqrt * sqrt == num:\n",
    "    print(num, \"is a perfect square.\")\n",
    "else:\n",
    "    print(num, \"is not a perfect square.\")"
   ]
  },
  {
   "cell_type": "markdown",
   "id": "18969925-3d02-4fd1-9cd8-58baaebf594c",
   "metadata": {},
   "source": [
    "Q21) Explain the purpose of the \"continue\" and \"break\" statements within if-else loops."
   ]
  },
  {
   "cell_type": "markdown",
   "id": "3c1f0155-e09b-4828-881f-9ba8af190306",
   "metadata": {},
   "source": [
    "A21) continue: It is used to skip the rest of the current iteration and move to the next iteration of a loop. It is often used in loops (e.g., \"for\" or \"while\") to skip certain conditions and continue with the next iteration.\n",
    "   break: It is used to exit the loop prematurely. When \"break\" is encountered in a loop, the loop is terminated immediately, and program execution continues after the loop."
   ]
  },
  {
   "cell_type": "markdown",
   "id": "0287963d-7d5d-4b37-b07f-f2688b18429d",
   "metadata": {},
   "source": [
    "Q22) Create a Python program that calculates the BMI (Body Mass Index) of a person based on their weight and height using if-else."
   ]
  },
  {
   "cell_type": "code",
   "execution_count": 47,
   "id": "0b429a2d-36fb-4b80-a44e-480e1acc5c2b",
   "metadata": {},
   "outputs": [
    {
     "name": "stdin",
     "output_type": "stream",
     "text": [
      "Enter your weight in kg:  \n"
     ]
    },
    {
     "ename": "ValueError",
     "evalue": "could not convert string to float: ''",
     "output_type": "error",
     "traceback": [
      "\u001b[0;31m---------------------------------------------------------------------------\u001b[0m",
      "\u001b[0;31mValueError\u001b[0m                                Traceback (most recent call last)",
      "Cell \u001b[0;32mIn[47], line 1\u001b[0m\n\u001b[0;32m----> 1\u001b[0m weight \u001b[38;5;241m=\u001b[39m \u001b[38;5;28;43mfloat\u001b[39;49m\u001b[43m(\u001b[49m\u001b[38;5;28;43minput\u001b[39;49m\u001b[43m(\u001b[49m\u001b[38;5;124;43m\"\u001b[39;49m\u001b[38;5;124;43mEnter your weight in kg: \u001b[39;49m\u001b[38;5;124;43m\"\u001b[39;49m\u001b[43m)\u001b[49m\u001b[43m)\u001b[49m\n\u001b[1;32m      2\u001b[0m height \u001b[38;5;241m=\u001b[39m \u001b[38;5;28mfloat\u001b[39m(\u001b[38;5;28minput\u001b[39m(\u001b[38;5;124m\"\u001b[39m\u001b[38;5;124mEnter your height in meters: \u001b[39m\u001b[38;5;124m\"\u001b[39m))\n\u001b[1;32m      4\u001b[0m bmi \u001b[38;5;241m=\u001b[39m weight \u001b[38;5;241m/\u001b[39m (height \u001b[38;5;241m*\u001b[39m\u001b[38;5;241m*\u001b[39m \u001b[38;5;241m2\u001b[39m)\n",
      "\u001b[0;31mValueError\u001b[0m: could not convert string to float: ''"
     ]
    }
   ],
   "source": [
    "weight = float(input(\"Enter your weight in kg: \"))\n",
    "height = float(input(\"Enter your height in meters: \"))\n",
    "\n",
    "bmi = weight / (height ** 2)\n",
    "\n",
    "if bmi < 18.5:\n",
    "    category = \"Underweight\"\n",
    "elif 18.5 <= bmi < 24.9:\n",
    "    category = \"Normal Weight\"\n",
    "elif 24.9 <= bmi < 29.9:\n",
    "    category = \"Overweight\"\n",
    "else:\n",
    "    category = \"Obese\"\n",
    "\n",
    "print(\"Your BMI is:\", bmi)\n",
    "print(\"Category:\", category)"
   ]
  },
  {
   "cell_type": "markdown",
   "id": "7fb35bcc-fe4e-4aac-8f02-e0a25ee1d2e2",
   "metadata": {},
   "source": [
    "Q23) How can you use the \"filter()\" function with if-else statements to filter elements from a list?"
   ]
  },
  {
   "cell_type": "code",
   "execution_count": 25,
   "id": "630a6e86-2ed2-4771-b6a1-4b3b150630e7",
   "metadata": {},
   "outputs": [
    {
     "name": "stdout",
     "output_type": "stream",
     "text": [
      "Even numbers: [2, 4, 6, 8]\n"
     ]
    }
   ],
   "source": [
    "# Example: Filter even numbers from a list\n",
    "numbers = [1, 2, 3, 4, 5, 6, 7, 8, 9]\n",
    "filtered_numbers = list(filter(lambda x: x % 2 == 0, numbers))\n",
    "print(\"Even numbers:\", filtered_numbers)"
   ]
  },
  {
   "cell_type": "markdown",
   "id": "c0ceddca-d3d0-4738-8cda-1e970aca2e25",
   "metadata": {},
   "source": [
    "Q24) Write a Python program to determine if a given number is prime or not using if-else."
   ]
  },
  {
   "cell_type": "code",
   "execution_count": 26,
   "id": "70b1822a-f72d-485a-9277-df975f3a2582",
   "metadata": {},
   "outputs": [
    {
     "name": "stdin",
     "output_type": "stream",
     "text": [
      "Enter a number:  25\n"
     ]
    },
    {
     "name": "stdout",
     "output_type": "stream",
     "text": [
      "25 is not a prime number.\n"
     ]
    }
   ],
   "source": [
    "num = int(input(\"Enter a number: \"))\n",
    "\n",
    "if num > 1:\n",
    "    for i in range(2, int(num**0.5) + 1):\n",
    "        if num % i == 0:\n",
    "            print(num, \"is not a prime number.\")\n",
    "            break\n",
    "    else:\n",
    "        print(num, \"is a prime number.\")\n",
    "else:\n",
    "    print(num, \"is not a prime number.\")"
   ]
  },
  {
   "cell_type": "markdown",
   "id": "4e686c03-7137-4b28-86d1-622cd8e150d9",
   "metadata": {},
   "source": [
    "Map :-"
   ]
  },
  {
   "cell_type": "markdown",
   "id": "bcf9d4f3-b0aa-4cb0-82f4-4c2e40aad98c",
   "metadata": {},
   "source": [
    "Q1) Explain the purpose of the `map()` function in Python and provide an example of how it can be used to apply a function to each element of an iterable."
   ]
  },
  {
   "cell_type": "code",
   "execution_count": 29,
   "id": "8a7d8c82-125e-451d-9f63-849110c7437b",
   "metadata": {},
   "outputs": [
    {
     "name": "stdout",
     "output_type": "stream",
     "text": [
      "[1, 4, 9, 16, 25]\n"
     ]
    }
   ],
   "source": [
    "numbers = [1, 2, 3, 4, 5]\n",
    "squared = map(lambda x: x**2, numbers)\n",
    "squared_list = list(squared)\n",
    "print(squared_list)"
   ]
  },
  {
   "cell_type": "markdown",
   "id": "f3edf0f2-09ab-4a74-9412-1e93617b659c",
   "metadata": {},
   "source": [
    "Q2) Write a Python program that uses the `map()` function to square each element of a list of numbers."
   ]
  },
  {
   "cell_type": "code",
   "execution_count": 30,
   "id": "4c22e398-8d24-4326-8cad-1598c8f7eb2d",
   "metadata": {},
   "outputs": [
    {
     "name": "stdout",
     "output_type": "stream",
     "text": [
      "[1, 4, 9, 16, 25]\n"
     ]
    }
   ],
   "source": [
    "numbers = [1, 2, 3, 4, 5]\n",
    "squared = map(lambda x: x**2, numbers)\n",
    "squared_list = list(squared)\n",
    "print(squared_list)"
   ]
  },
  {
   "cell_type": "markdown",
   "id": "8d911891-89ea-425b-be8b-4046b3e83c07",
   "metadata": {},
   "source": [
    "Q3) How does the `map()` function differ from a list comprehension in Python, and when would you choose one over the other?"
   ]
  },
  {
   "cell_type": "markdown",
   "id": "7c1a71e7-e75e-4283-9777-fc72fc55e0af",
   "metadata": {},
   "source": [
    "map(): 1) It applies a specified function to each element of an iterable and returns an iterable (e.g., a map object or a list).\n",
    "        \n",
    "2) List Comprehension: It constructs a new list by specifying the transformation for each element in a more concise and readable way.\n",
    "You might choose one over the other based on:\n",
    "\n",
    "3) Readability: List comprehensions are often considered more readable and Pythonic for simple transformations.\n",
    "4) Performance: map() can be faster for certain operations, especially when dealing with built-in functions or functions that already exist.\n",
    "5) Preference: The choice between map() and list comprehensions may also depend on personal coding style and familiarity."
   ]
  },
  {
   "cell_type": "markdown",
   "id": "24855ef1-d87f-48ce-b811-3006465d7fe6",
   "metadata": {},
   "source": [
    "Q4) Create a Python program that uses the `map()` function to convert a list of names to uppercase."
   ]
  },
  {
   "cell_type": "code",
   "execution_count": 31,
   "id": "82de8927-6ed9-44cb-9e8e-32a9fc5b9203",
   "metadata": {},
   "outputs": [
    {
     "name": "stdout",
     "output_type": "stream",
     "text": [
      "['ALICE', 'BOB', 'CHARLIE']\n"
     ]
    }
   ],
   "source": [
    "names = [\"Alice\", \"Bob\", \"Charlie\"]\n",
    "uppercase_names = map(str.upper, names)\n",
    "uppercase_list = list(uppercase_names)\n",
    "print(uppercase_list)"
   ]
  },
  {
   "cell_type": "markdown",
   "id": "a9922625-7dab-402b-b6af-f4cabaed36d9",
   "metadata": {},
   "source": [
    "Q5) Write a Python program that uses the `map()` function to calculate the length of each word in a list of strings.\n"
   ]
  },
  {
   "cell_type": "code",
   "execution_count": 32,
   "id": "7739feed-802d-47b8-90db-d94536b35c19",
   "metadata": {},
   "outputs": [
    {
     "name": "stdout",
     "output_type": "stream",
     "text": [
      "[5, 6, 6]\n"
     ]
    }
   ],
   "source": [
    "words = [\"apple\", \"banana\", \"cherry\"]\n",
    "word_lengths = map(len, words)\n",
    "word_lengths_list = list(word_lengths)\n",
    "print(word_lengths_list)"
   ]
  },
  {
   "cell_type": "markdown",
   "id": "bed5d1a8-bc2a-4936-af3b-5c02eb84d326",
   "metadata": {},
   "source": [
    "Q6) How can you use the `map()` function to apply a custom function to elements of multiple lists simultaneously in Python?"
   ]
  },
  {
   "cell_type": "code",
   "execution_count": 33,
   "id": "3b916ca8-85a0-482e-b5fa-b5f8eb16f243",
   "metadata": {},
   "outputs": [
    {
     "name": "stdout",
     "output_type": "stream",
     "text": [
      "[5, 7, 9]\n"
     ]
    }
   ],
   "source": [
    "list1 = [1, 2, 3]\n",
    "list2 = [4, 5, 6]\n",
    "\n",
    "result = map(lambda x, y: x + y, list1, list2)\n",
    "result_list = list(result)\n",
    "print(result_list)"
   ]
  },
  {
   "cell_type": "markdown",
   "id": "81b4f8b0-13e2-4b57-90cb-5e3a220ff946",
   "metadata": {},
   "source": [
    "Q7) Create a Python program that uses `map()` to convert a list of temperatures from Celsius to Fahrenheit."
   ]
  },
  {
   "cell_type": "code",
   "execution_count": 34,
   "id": "5128e2c6-71f2-4a01-b46f-f2513a2b7eb7",
   "metadata": {},
   "outputs": [
    {
     "name": "stdout",
     "output_type": "stream",
     "text": [
      "[32.0, 77.0, 212.0]\n"
     ]
    }
   ],
   "source": [
    "celsius_temperatures = [0, 25, 100]\n",
    "\n",
    "def celsius_to_fahrenheit(celsius):\n",
    "    return (celsius * 9/5) + 32\n",
    "\n",
    "fahrenheit_temperatures = map(celsius_to_fahrenheit, celsius_temperatures)\n",
    "fahrenheit_list = list(fahrenheit_temperatures)\n",
    "print(fahrenheit_list)"
   ]
  },
  {
   "cell_type": "markdown",
   "id": "958829e7-ea56-4a34-ba07-d73fe5c07c7b",
   "metadata": {},
   "source": [
    "Q8) Write a Python program that uses the `map()` function to round each element of a list of floating-point numbers to the nearest integer.\n"
   ]
  },
  {
   "cell_type": "code",
   "execution_count": 35,
   "id": "5b41a563-821a-4661-b20c-c3e8e4d14508",
   "metadata": {},
   "outputs": [
    {
     "name": "stdout",
     "output_type": "stream",
     "text": [
      "[1, 5, 8]\n"
     ]
    }
   ],
   "source": [
    "float_numbers = [1.23, 4.56, 7.89]\n",
    "rounded_integers = map(round, float_numbers)\n",
    "rounded_list = list(rounded_integers)\n",
    "print(rounded_list)"
   ]
  },
  {
   "cell_type": "markdown",
   "id": "63fb9c9a-3859-4fd1-b226-2d32b0fece9b",
   "metadata": {},
   "source": [
    "Reduce :-"
   ]
  },
  {
   "cell_type": "markdown",
   "id": "489deb3e-3e59-4747-95b2-05eaf45d3f1c",
   "metadata": {},
   "source": [
    "Q1) Explain the purpose of the `filter()` function in Python and provide an example of how it can be used to filter elements from an iterable."
   ]
  },
  {
   "cell_type": "code",
   "execution_count": 1,
   "id": "5f84f045-8c64-48f8-b536-ca10eee23b24",
   "metadata": {},
   "outputs": [
    {
     "name": "stdout",
     "output_type": "stream",
     "text": [
      "15\n"
     ]
    }
   ],
   "source": [
    "from functools import reduce\n",
    "\n",
    "# Define a function to be applied cumulatively\n",
    "def add(x, y):\n",
    "    return x + y\n",
    "\n",
    "# Create a list of numbers\n",
    "numbers = [1, 2, 3, 4, 5]\n",
    "\n",
    "# Use reduce() to apply the 'add' function cumulatively to the list\n",
    "result = reduce(add, numbers)\n",
    "\n",
    "print(result)  # Output: 15 (1 + 2 + 3 + 4 + 5)"
   ]
  },
  {
   "cell_type": "markdown",
   "id": "e308a101-6342-4c35-96ee-f10a960eb23a",
   "metadata": {},
   "source": [
    "Q2) Write a Python program that uses the `filter()` function to select even numbers from a list of integers."
   ]
  },
  {
   "cell_type": "code",
   "execution_count": 2,
   "id": "2b0e82b8-6467-423c-bf40-3bc11aca36c6",
   "metadata": {},
   "outputs": [
    {
     "name": "stdout",
     "output_type": "stream",
     "text": [
      "120\n"
     ]
    }
   ],
   "source": [
    "from functools import reduce\n",
    "\n",
    "# Define a function to multiply two numbers\n",
    "def multiply(x, y):\n",
    "    return x * y\n",
    "\n",
    "# Create a list of numbers\n",
    "numbers = [1, 2, 3, 4, 5]\n",
    "\n",
    "# Use reduce() to apply the 'multiply' function cumulatively to the list\n",
    "product = reduce(multiply, numbers)\n",
    "\n",
    "print(product)  # Output: 120 (1 * 2 * 3 * 4 * 5)"
   ]
  },
  {
   "cell_type": "markdown",
   "id": "f64245b0-d11b-4d10-ae17-2b77c191c442",
   "metadata": {},
   "source": [
    "Q3) Create a Python program that uses the `filter()` function to select names that start with a specific letter from a list of strings."
   ]
  },
  {
   "cell_type": "code",
   "execution_count": 3,
   "id": "77238227-3f34-4cca-9ed0-016a9c49263d",
   "metadata": {},
   "outputs": [
    {
     "name": "stdout",
     "output_type": "stream",
     "text": [
      "99\n"
     ]
    }
   ],
   "source": [
    "from functools import reduce\n",
    "\n",
    "# Define a function to find the maximum of two numbers\n",
    "def find_max(x, y):\n",
    "    return x if x > y else y\n",
    "\n",
    "# Create a list of numbers\n",
    "numbers = [12, 45, 78, 34, 99, 23]\n",
    "\n",
    "# Use reduce() to apply the 'find_max' function cumulatively to the list\n",
    "max_value = reduce(find_max, numbers)\n",
    "\n",
    "print(max_value)  # Output: 99 (the maximum element in the list)"
   ]
  },
  {
   "cell_type": "markdown",
   "id": "ce0b06bc-d24c-414f-8e0b-98f4a8fcbf85",
   "metadata": {},
   "source": [
    "Q4) Write a Python program that uses the `filter()` function to select prime numbers from a list of integers."
   ]
  },
  {
   "cell_type": "code",
   "execution_count": 4,
   "id": "a9dc0a30-0145-4aaf-b9a8-9da05a347fef",
   "metadata": {},
   "outputs": [
    {
     "name": "stdout",
     "output_type": "stream",
     "text": [
      "Hello, world!\n"
     ]
    }
   ],
   "source": [
    "from functools import reduce\n",
    "\n",
    "# Define a function to concatenate two strings\n",
    "def concatenate_strings(x, y):\n",
    "    return x + y\n",
    "\n",
    "# Create a list of strings\n",
    "strings = [\"Hello, \", \"world\", \"!\"]\n",
    "\n",
    "# Use reduce() to apply the 'concatenate_strings' function cumulatively to the list\n",
    "result = reduce(concatenate_strings, strings)\n",
    "\n",
    "print(result)  # Output: \"Hello, world!\""
   ]
  },
  {
   "cell_type": "markdown",
   "id": "75cf33ce-68f8-4b67-a470-d6636f319610",
   "metadata": {},
   "source": [
    "Q5) How can you use the `filter()` function to remove None values from a list in Python?"
   ]
  },
  {
   "cell_type": "code",
   "execution_count": 5,
   "id": "1c89c988-79e3-4139-86fb-9bd6e3e25aaf",
   "metadata": {},
   "outputs": [
    {
     "name": "stdout",
     "output_type": "stream",
     "text": [
      "The factorial of 5 is 120\n"
     ]
    }
   ],
   "source": [
    "from functools import reduce\n",
    "\n",
    "# Define a function to multiply two numbers\n",
    "def multiply(x, y):\n",
    "    return x * y\n",
    "\n",
    "# Input: Number for which you want to calculate the factorial\n",
    "n = 5  # Change this to any positive integer\n",
    "\n",
    "# Create a list of numbers from 1 to n\n",
    "numbers = list(range(1, n + 1))\n",
    "\n",
    "# Use reduce() to apply the 'multiply' function cumulatively to the list\n",
    "factorial = reduce(multiply, numbers)\n",
    "\n",
    "print(f\"The factorial of {n} is {factorial}\")"
   ]
  },
  {
   "cell_type": "markdown",
   "id": "637846c7-14d4-4c87-a5f5-e899e093e672",
   "metadata": {},
   "source": [
    "Q6) Create a Python program that uses `filter()` to select words longer than a certain length from a list of strings."
   ]
  },
  {
   "cell_type": "code",
   "execution_count": 6,
   "id": "9a8946e9-deb3-4292-95e6-7ea5971525c6",
   "metadata": {},
   "outputs": [
    {
     "name": "stdout",
     "output_type": "stream",
     "text": [
      "The GCD of the list is 12\n"
     ]
    }
   ],
   "source": [
    "from functools import reduce\n",
    "import math\n",
    "\n",
    "# Create a list of numbers\n",
    "numbers = [36, 48, 60, 72]\n",
    "\n",
    "# Use reduce() to find the GCD of the list using math.gcd\n",
    "gcd = reduce(math.gcd, numbers)\n",
    "\n",
    "print(f\"The GCD of the list is {gcd}\")  # Output: The GCD of the list is 12"
   ]
  },
  {
   "cell_type": "markdown",
   "id": "24e73fe0-d176-432a-a4ce-1930d04a2bf9",
   "metadata": {},
   "source": [
    "Q7) Write a Python program that uses the `filter()` function to select elements greater than a specified threshold from a list of values."
   ]
  },
  {
   "cell_type": "code",
   "execution_count": 7,
   "id": "8bf6b56b-7034-4a1b-b41e-a487309333b1",
   "metadata": {},
   "outputs": [
    {
     "name": "stdout",
     "output_type": "stream",
     "text": [
      "The sum of digits in 12345 is 15\n"
     ]
    }
   ],
   "source": [
    "from functools import reduce\n",
    "\n",
    "# Define a function to add two digits\n",
    "def add_digits(x, y):\n",
    "    return int(x) + int(y)\n",
    "\n",
    "# Input: Number for which you want to find the sum of digits\n",
    "number = 12345  # Change this to any positive integer\n",
    "\n",
    "# Convert the number to a string to iterate over its digits\n",
    "number_str = str(number)\n",
    "\n",
    "# Use reduce() to apply the 'add_digits' function cumulatively to the digits\n",
    "digit_sum = reduce(add_digits, number_str)\n",
    "\n",
    "print(f\"The sum of digits in {number} is {digit_sum}\")"
   ]
  },
  {
   "cell_type": "markdown",
   "id": "fc634be3-dab4-4e00-bb4c-fc3eb8948f36",
   "metadata": {},
   "source": [
    "Filter :-"
   ]
  },
  {
   "cell_type": "markdown",
   "id": "88769f08-fb96-4279-871a-321c609340f1",
   "metadata": {},
   "source": [
    "Q1) Explain the purpose of the `filter()` function in Python and provide an example of how it can be used to filter elements from an iterable."
   ]
  },
  {
   "cell_type": "code",
   "execution_count": 9,
   "id": "f7d776da-1826-456a-926e-effd09361c79",
   "metadata": {},
   "outputs": [
    {
     "name": "stdout",
     "output_type": "stream",
     "text": [
      "[2, 4, 6, 8]\n"
     ]
    }
   ],
   "source": [
    "# Define a predicate function to check if a number is even\n",
    "def is_even(num):\n",
    "    return num % 2 == 0\n",
    "\n",
    "# Create a list of integers\n",
    "numbers = [1, 2, 3, 4, 5, 6, 7, 8]\n",
    "\n",
    "# Use filter() to filter even numbers from the list\n",
    "even_numbers = list(filter(is_even, numbers))\n",
    "\n",
    "print(even_numbers)  # Output: [2, 4, 6, 8]\n"
   ]
  },
  {
   "cell_type": "markdown",
   "id": "3ce7c451-8eca-4a76-8e85-1544ec036f03",
   "metadata": {},
   "source": [
    "Q2) Write a Python program that uses the `filter()` function to select even numbers from a list of integers."
   ]
  },
  {
   "cell_type": "code",
   "execution_count": 10,
   "id": "2209d54b-4ac1-4fd6-ab69-a82cb4320d3c",
   "metadata": {},
   "outputs": [
    {
     "name": "stdout",
     "output_type": "stream",
     "text": [
      "[2, 4, 6, 8]\n"
     ]
    }
   ],
   "source": [
    "# Define a predicate function to check if a number is even\n",
    "def is_even(num):\n",
    "    return num % 2 == 0\n",
    "\n",
    "# Create a list of integers\n",
    "numbers = [1, 2, 3, 4, 5, 6, 7, 8]\n",
    "\n",
    "# Use filter() to select even numbers from the list\n",
    "even_numbers = list(filter(is_even, numbers))\n",
    "\n",
    "print(even_numbers)  # Output: [2, 4, 6, 8]"
   ]
  },
  {
   "cell_type": "markdown",
   "id": "7ab7f3c7-8d8c-44ac-a202-d98061aea539",
   "metadata": {},
   "source": [
    "Q3) Create a Python program that uses the `filter()` function to select names that start with a specific letter from a list of strings."
   ]
  },
  {
   "cell_type": "code",
   "execution_count": 11,
   "id": "4a2f508e-20d5-4b88-bafb-59edb1f84032",
   "metadata": {},
   "outputs": [
    {
     "name": "stdout",
     "output_type": "stream",
     "text": [
      "['Sarah', 'Steve', 'Sophia']\n"
     ]
    }
   ],
   "source": [
    "# Define a predicate function to check if a name starts with a specific letter 'S'\n",
    "def starts_with_s(name):\n",
    "    return name.startswith('S')\n",
    "\n",
    "# Create a list of names\n",
    "names = [\"Alice\", \"Bob\", \"Sarah\", \"Steve\", \"Sophia\"]\n",
    "\n",
    "# Use filter() to select names starting with 'S' from the list\n",
    "s_names = list(filter(starts_with_s, names))\n",
    "\n",
    "print(s_names)  # Output: [\"Sarah\", \"Steve\", \"Sophia\"]"
   ]
  },
  {
   "cell_type": "markdown",
   "id": "41ee33b8-761e-48c5-8308-85996436a3be",
   "metadata": {},
   "source": [
    "Q4) Write a Python program that uses the `filter()` function to select prime numbers from a list of integers."
   ]
  },
  {
   "cell_type": "code",
   "execution_count": 12,
   "id": "29d211ad-f713-4c0b-85d2-4953c83a2862",
   "metadata": {},
   "outputs": [
    {
     "name": "stdout",
     "output_type": "stream",
     "text": [
      "[2, 3, 5, 7, 11, 13]\n"
     ]
    }
   ],
   "source": [
    "# Define a predicate function to check if a number is prime\n",
    "def is_prime(num):\n",
    "    if num <= 1:\n",
    "        return False\n",
    "    if num <= 3:\n",
    "        return True\n",
    "    if num % 2 == 0 or num % 3 == 0:\n",
    "        return False\n",
    "    i = 5\n",
    "    while i * i <= num:\n",
    "        if num % i == 0 or num % (i + 2) == 0:\n",
    "            return False\n",
    "        i += 6\n",
    "    return True\n",
    "\n",
    "# Create a list of integers\n",
    "numbers = [2, 3, 5, 7, 10, 11, 13, 15]\n",
    "\n",
    "# Use filter() to select prime numbers from the list\n",
    "prime_numbers = list(filter(is_prime, numbers))\n",
    "\n",
    "print(prime_numbers)  # Output: [2, 3, 5, 7, 11, 13]"
   ]
  },
  {
   "cell_type": "markdown",
   "id": "48b6e3cb-f574-402b-a1e5-7e4bcb6748f3",
   "metadata": {},
   "source": [
    "Q5) How can you use the `filter()` function to remove None values from a list in Python?"
   ]
  },
  {
   "cell_type": "code",
   "execution_count": 13,
   "id": "031815cc-3d99-45ce-9034-fd065da943e8",
   "metadata": {},
   "outputs": [
    {
     "name": "stdout",
     "output_type": "stream",
     "text": [
      "[1, 3, 5]\n"
     ]
    }
   ],
   "source": [
    "# Define a predicate function to check if an element is not None\n",
    "def is_not_none(element):\n",
    "    return element is not None\n",
    "\n",
    "# Create a list with None values\n",
    "values = [1, None, 3, None, 5, None]\n",
    "\n",
    "# Use filter() to remove None values from the list\n",
    "filtered_values = list(filter(is_not_none, values))\n",
    "\n",
    "print(filtered_values)  # Output: [1, 3, 5]"
   ]
  },
  {
   "cell_type": "markdown",
   "id": "a62397f7-a280-4a0d-9a56-edc2d6045cf0",
   "metadata": {},
   "source": [
    "Q6) Create a Python program that uses `filter()` to select words longer than a certain length from a list of strings."
   ]
  },
  {
   "cell_type": "code",
   "execution_count": 14,
   "id": "ad26cd77-c3b4-4778-9a21-b24a22e23379",
   "metadata": {},
   "outputs": [
    {
     "name": "stdout",
     "output_type": "stream",
     "text": [
      "['apple', 'banana', 'elephant']\n"
     ]
    }
   ],
   "source": [
    "# Define a predicate function to check if a word has more than 3 characters\n",
    "def is_long_word(word):\n",
    "    return len(word) > 3\n",
    "\n",
    "# Create a list of strings\n",
    "words = [\"apple\", \"banana\", \"cat\", \"dog\", \"elephant\"]\n",
    "\n",
    "# Use filter() to select long words from the list\n",
    "long_words = list(filter(is_long_word, words))\n",
    "\n",
    "print(long_words)  # Output: [\"apple\", \"banana\", \"elephant\"]"
   ]
  },
  {
   "cell_type": "markdown",
   "id": "29313137-e1d0-49dd-8e69-bac8736fea56",
   "metadata": {},
   "source": [
    "Q7) Write a Python program that uses the `filter()` function to select elements greater than a specified threshold from a list of values.\n"
   ]
  },
  {
   "cell_type": "code",
   "execution_count": 15,
   "id": "69968d2a-3757-47cc-a07b-a09a6df235f7",
   "metadata": {},
   "outputs": [
    {
     "name": "stdout",
     "output_type": "stream",
     "text": [
      "[20, 25, 30]\n"
     ]
    }
   ],
   "source": [
    "# Define a predicate function to check if a value is greater than a threshold\n",
    "def is_greater_than_threshold(value, threshold):\n",
    "    return value > threshold\n",
    "\n",
    "# Create a list of values\n",
    "values = [10, 15, 5, 20, 25, 30]\n",
    "\n",
    "# Specify the threshold value\n",
    "threshold = 15\n",
    "\n",
    "# Use filter() to select values greater than the threshold\n",
    "filtered_values = list(filter(lambda x: is_greater_than_threshold(x, threshold), values))\n",
    "\n",
    "print(filtered_values)  # Output: [20, 25, 30]"
   ]
  },
  {
   "cell_type": "markdown",
   "id": "93af275f-7a38-4634-a375-257bcbec6e42",
   "metadata": {},
   "source": [
    "Recursion:-"
   ]
  },
  {
   "cell_type": "markdown",
   "id": "5ea57cad-f0b4-4a25-802b-9d943e288f2e",
   "metadata": {},
   "source": [
    "Q1) Explain the concept of recursion in Python. How does it differ from iteration?"
   ]
  },
  {
   "cell_type": "markdown",
   "id": "1f109c9a-be09-4e94-a415-22895648033e",
   "metadata": {},
   "source": [
    "Recursion in Python is a programming technique where a function calls itself to solve a problem. In a recursive function, the problem is divided into smaller, similar subproblems that are solved recursively until a base case is reached, at which point the function returns its result. Recursion provides an elegant way to solve problems that can be broken down into smaller, identical subproblems.\n",
    "\n",
    "Recursion differs from iteration in the way it repeats a set of instructions. In iteration, a loop repeatedly executes a block of code until a condition is met. In recursion, a function calls itself to solve smaller instances of the same problem until it reaches a base case, at which point it starts returning results and \"unwinding\" the recursive calls."
   ]
  },
  {
   "cell_type": "markdown",
   "id": "af54f7db-abba-4458-a199-acf2d6c53857",
   "metadata": {},
   "source": [
    "Q2) Write a Python program to calculate the factorial of a number using recursion."
   ]
  },
  {
   "cell_type": "code",
   "execution_count": null,
   "id": "05f740b4-bc1e-4db3-9bcd-a0b384ea2d22",
   "metadata": {},
   "outputs": [],
   "source": [
    "def factorial(n):\n",
    "    if n == 0:\n",
    "        return 1\n",
    "    else:\n",
    "        return n * factorial(n - 1)\n",
    "\n",
    "# Input: Number for which you want to calculate the factorial\n",
    "n = 5  # Change this to any positive integer\n",
    "\n",
    "result = factorial(n)\n",
    "print(f\"The factorial of {n} is {result}\")"
   ]
  },
  {
   "cell_type": "markdown",
   "id": "2464be75-c163-4ef1-ab58-4d9314e31b69",
   "metadata": {},
   "source": [
    "Q3) Create a recursive Python function to find the nth Fibonacci number."
   ]
  },
  {
   "cell_type": "code",
   "execution_count": null,
   "id": "f9c62be3-d813-479f-aa62-9b7fa3e9fae0",
   "metadata": {},
   "outputs": [],
   "source": [
    "def fibonacci(n):\n",
    "    if n <= 0:\n",
    "        return 0\n",
    "    elif n == 1:\n",
    "        return 1\n",
    "    else:\n",
    "        return fibonacci(n - 1) + fibonacci(n - 2)\n",
    "\n",
    "# Input: Value of n for which you want to find the Fibonacci number\n",
    "n = 7  # Change this to any non-negative integer\n",
    "\n",
    "result = fibonacci(n)\n",
    "print(f\"The {n}th Fibonacci number is {result}\")"
   ]
  },
  {
   "cell_type": "markdown",
   "id": "2ccf98d2-44c0-4315-9d66-cefbb2f8d6e9",
   "metadata": {},
   "source": [
    "Q4) Write a recursive Python function to calculate the sum of all elements in a list."
   ]
  },
  {
   "cell_type": "code",
   "execution_count": null,
   "id": "1063d22f-9329-4f69-9aaf-6ebc812daeba",
   "metadata": {},
   "outputs": [],
   "source": [
    "def recursive_sum(arr):\n",
    "    if not arr:\n",
    "        return 0\n",
    "    else:\n",
    "        return arr[0] + recursive_sum(arr[1:])\n",
    "\n",
    "# Input: List of numbers\n",
    "numbers = [1, 2, 3, 4, 5]\n",
    "\n",
    "result = recursive_sum(numbers)\n",
    "print(f\"The sum of elements in the list is {result}\")"
   ]
  },
  {
   "cell_type": "markdown",
   "id": "edf76fd9-9c83-45a7-b7fa-2e9c435ea122",
   "metadata": {},
   "source": [
    "Q5) How can you prevent a recursive function from running indefinitely, causing a stack overflow error?"
   ]
  },
  {
   "cell_type": "markdown",
   "id": "f6c2b8af-ef3e-452e-8cea-aeda16089b2a",
   "metadata": {},
   "source": [
    "To prevent a recursive function from running indefinitely and causing a stack overflow error, you should ensure that there is a base case that is eventually reached. The base case defines the condition under which the recursion stops. In the examples above, you can see that each recursive function has a base case that returns a result without making another recursive call. Without a base case, the function would keep calling itself infinitely."
   ]
  },
  {
   "cell_type": "markdown",
   "id": "e883a796-dcd8-4a21-ae99-07009a24ebf7",
   "metadata": {},
   "source": [
    "Q6) Create a recursive Python function to find the greatest common divisor (GCD) of two numbers using the Euclidean algorithm."
   ]
  },
  {
   "cell_type": "code",
   "execution_count": 16,
   "id": "9751d663-c0e1-480d-b325-28f0a88534ea",
   "metadata": {},
   "outputs": [
    {
     "name": "stdout",
     "output_type": "stream",
     "text": [
      "The GCD of 48 and 18 is 6\n"
     ]
    }
   ],
   "source": [
    "def gcd(a, b):\n",
    "    if b == 0:\n",
    "        return a\n",
    "    else:\n",
    "        return gcd(b, a % b)\n",
    "\n",
    "# Input: Two numbers for which you want to find the GCD\n",
    "num1 = 48\n",
    "num2 = 18\n",
    "\n",
    "result = gcd(num1, num2)\n",
    "print(f\"The GCD of {num1} and {num2} is {result}\")"
   ]
  },
  {
   "cell_type": "markdown",
   "id": "df13a581-c3ff-4085-a998-b4da3cd09c29",
   "metadata": {},
   "source": [
    "Q7) Write a recursive Python function to reverse a string."
   ]
  },
  {
   "cell_type": "code",
   "execution_count": 17,
   "id": "d13ab5b7-8e56-4317-8523-1967c2bb674e",
   "metadata": {},
   "outputs": [
    {
     "name": "stdout",
     "output_type": "stream",
     "text": [
      "The reversed string is: olleh\n"
     ]
    }
   ],
   "source": [
    "def reverse_string(s):\n",
    "    if len(s) <= 1:\n",
    "        return s\n",
    "    else:\n",
    "        return reverse_string(s[1:]) + s[0]\n",
    "\n",
    "# Input: String to be reversed\n",
    "input_string = \"hello\"\n",
    "\n",
    "result = reverse_string(input_string)\n",
    "print(f\"The reversed string is: {result}\")"
   ]
  },
  {
   "cell_type": "markdown",
   "id": "e0de1f2b-810d-472e-821c-ec22d9c5d5e7",
   "metadata": {},
   "source": [
    "Q8) Create a recursive Python function to calculate the power of a number (x^n)."
   ]
  },
  {
   "cell_type": "code",
   "execution_count": 18,
   "id": "1d751d9c-6570-406b-b8fb-e06bc8bebc1a",
   "metadata": {},
   "outputs": [
    {
     "name": "stdout",
     "output_type": "stream",
     "text": [
      "2 raised to the power 3 is 8\n"
     ]
    }
   ],
   "source": [
    "def power(x, n):\n",
    "    if n == 0:\n",
    "        return 1\n",
    "    else:\n",
    "        return x * power(x, n - 1)\n",
    "\n",
    "# Input: Base (x) and exponent (n)\n",
    "x = 2\n",
    "n = 3\n",
    "\n",
    "result = power(x, n)\n",
    "print(f\"{x} raised to the power {n} is {result}\")"
   ]
  },
  {
   "cell_type": "markdown",
   "id": "30187569-4657-453b-9ecf-c61a8c68c0e1",
   "metadata": {},
   "source": [
    "Q9) Write a recursive Python function to find all permutations of a given string."
   ]
  },
  {
   "cell_type": "code",
   "execution_count": 19,
   "id": "796b76c0-0a02-4ee2-badd-58fa93e571a4",
   "metadata": {},
   "outputs": [
    {
     "name": "stdout",
     "output_type": "stream",
     "text": [
      "All permutations of abc are: ['abc', 'acb', 'bac', 'bca', 'cab', 'cba']\n"
     ]
    }
   ],
   "source": [
    "def permutations(string):\n",
    "    if len(string) == 1:\n",
    "        return [string]\n",
    "    else:\n",
    "        perms = []\n",
    "        for char in string:\n",
    "            remaining_chars = string.replace(char, '', 1)\n",
    "            sub_perms = permutations(remaining_chars)\n",
    "            for sub_perm in sub_perms:\n",
    "                perms.append(char + sub_perm)\n",
    "        return perms\n",
    "\n",
    "# Input: String for which you want to find permutations\n",
    "input_string = \"abc\"\n",
    "\n",
    "result = permutations(input_string)\n",
    "print(f\"All permutations of {input_string} are: {result}\")"
   ]
  },
  {
   "cell_type": "markdown",
   "id": "cc3f4072-b2c9-4468-822c-b1b461d3359a",
   "metadata": {},
   "source": [
    "Q10) Write a recursive Python function to check if a string is a palindrome."
   ]
  },
  {
   "cell_type": "code",
   "execution_count": 20,
   "id": "1eb2d144-c599-479f-978e-f5b78ba1f14c",
   "metadata": {},
   "outputs": [
    {
     "name": "stdout",
     "output_type": "stream",
     "text": [
      "Racecar is a palindrome.\n"
     ]
    }
   ],
   "source": [
    "def is_palindrome(s):\n",
    "    s = s.lower()  # Convert to lowercase for case-insensitive comparison\n",
    "    if len(s) <= 1:\n",
    "        return True\n",
    "    elif s[0] == s[-1]:\n",
    "        return is_palindrome(s[1:-1])\n",
    "    else:\n",
    "        return False\n",
    "\n",
    "# Input: String to be checked for palindrome\n",
    "input_string = \"Racecar\"  # Change this to any string\n",
    "\n",
    "if is_palindrome(input_string):\n",
    "    print(f\"{input_string} is a palindrome.\")\n",
    "else:\n",
    "    print(f\"{input_string} is not a palindrome.\")"
   ]
  },
  {
   "cell_type": "markdown",
   "id": "e1bb059d-89ed-4928-b68e-cd1d557d0f83",
   "metadata": {},
   "source": [
    "Q11) Create a recursive Python function to generate all possible combinations of a list of elements."
   ]
  },
  {
   "cell_type": "code",
   "execution_count": 21,
   "id": "dcdfd43a-2cd3-44ff-b8b7-2ef6fdf10a36",
   "metadata": {},
   "outputs": [
    {
     "name": "stdout",
     "output_type": "stream",
     "text": [
      "All 2-combinations of [1, 2, 3] are: [[2, 3], [1, 3], [1, 2]]\n"
     ]
    }
   ],
   "source": [
    "def combinations(elements, k):\n",
    "    if k == 0:\n",
    "        return [[]]\n",
    "    if not elements:\n",
    "        return []\n",
    "    \n",
    "    first, rest = elements[0], elements[1:]\n",
    "    \n",
    "    without_first = combinations(rest, k)\n",
    "    with_first = [ [first] + combo for combo in combinations(rest, k - 1) ]\n",
    "    \n",
    "    return without_first + with_first\n",
    "\n",
    "# Input: List of elements and the length of combinations (k)\n",
    "elements = [1, 2, 3]\n",
    "k = 2\n",
    "\n",
    "result = combinations(elements, k)\n",
    "print(f\"All {k}-combinations of {elements} are: {result}\")"
   ]
  },
  {
   "cell_type": "markdown",
   "id": "8d8ca856-1a7e-4aa0-8ae9-ae79c24a3f76",
   "metadata": {},
   "source": [
    "Basics of Functions:"
   ]
  },
  {
   "cell_type": "markdown",
   "id": "e9414d9d-c85b-4a27-a69f-a56709985770",
   "metadata": {},
   "source": [
    "Q1) What is a function in Python, and why is it used?"
   ]
  },
  {
   "cell_type": "markdown",
   "id": "fd3fb844-2bc6-4eb1-9044-4617964693c8",
   "metadata": {},
   "source": [
    "In Python, a function is a reusable block of code that performs a specific task or set of tasks. Functions are used to organize and modularize code by encapsulating a sequence of statements into a single unit. They are designed to take input, process it, and optionally return a result. Functions make code more readable, maintainable, and easier to debug because they allow you to break down complex problems into smaller, manageable parts."
   ]
  },
  {
   "cell_type": "markdown",
   "id": "0c0f35c4-14ac-4ae9-8ff9-87caa2b2a018",
   "metadata": {},
   "source": [
    "Q2) How do you define a function in Python? Provide an example."
   ]
  },
  {
   "cell_type": "markdown",
   "id": "f4a417c0-0ae6-4785-9e1f-8a0042afa15a",
   "metadata": {},
   "source": [
    " To define a function in Python, you use the def keyword followed by the function name, a pair of parentheses containing optional parameters, and a colon. The function body is indented and contains the code to be executed when the function is called. Here's an example of a simple function that calculates the square of a number:"
   ]
  },
  {
   "cell_type": "code",
   "execution_count": 23,
   "id": "bf24b732-b3d0-4260-9c5a-d0dfc2406114",
   "metadata": {},
   "outputs": [],
   "source": [
    "def square(x):\n",
    "    result = x * x\n",
    "    return result"
   ]
  },
  {
   "cell_type": "markdown",
   "id": "1cb7249a-5308-4bb9-bfc5-e439e15fbef1",
   "metadata": {},
   "source": [
    "Q3) Explain the difference between a function definition and a function call."
   ]
  },
  {
   "cell_type": "markdown",
   "id": "fd68d118-f61e-46ed-8f28-d57de525cdd0",
   "metadata": {},
   "source": [
    "Function Definition: This is where you define the function, specifying its name, parameters, and code block. It defines what the function does but does not execute the code inside the function. The function definition serves as a blueprint for how the function should behave when called.\n",
    "\n",
    "Function Call: This is where you actually use the function by invoking its name, passing arguments (if required), and triggering the execution of the code inside the function. When you call a function, you are instructing Python to execute the code defined in the function's body with the provided arguments."
   ]
  },
  {
   "cell_type": "code",
   "execution_count": 24,
   "id": "c78c53d8-8b8b-4e17-b7c7-edd2b76ef7a1",
   "metadata": {},
   "outputs": [],
   "source": [
    "# Function Definition\n",
    "def add(x, y):\n",
    "    result = x + y\n",
    "    return result\n",
    "\n",
    "# Function Call\n",
    "sum_result = add(3, 5)"
   ]
  },
  {
   "cell_type": "markdown",
   "id": "756b8122-f769-49e9-8101-0a8706e8627f",
   "metadata": {},
   "source": [
    "Q4) Write a Python program that defines a function to calculate the sum of two numbers and then calls the function"
   ]
  },
  {
   "cell_type": "code",
   "execution_count": 25,
   "id": "8f464dbe-8074-4cc3-bb07-6fae848932f0",
   "metadata": {},
   "outputs": [
    {
     "name": "stdout",
     "output_type": "stream",
     "text": [
      "The sum of 10 and 5 is 15\n"
     ]
    }
   ],
   "source": [
    "# Function Definition\n",
    "def add_numbers(x, y):\n",
    "    result = x + y\n",
    "    return result\n",
    "\n",
    "# Function Call\n",
    "num1 = 10\n",
    "num2 = 5\n",
    "sum_result = add_numbers(num1, num2)\n",
    "\n",
    "print(f\"The sum of {num1} and {num2} is {sum_result}\")"
   ]
  },
  {
   "cell_type": "markdown",
   "id": "17c59244-339f-4875-bc25-0c7344e9fd20",
   "metadata": {},
   "source": [
    "Q5) What is a function signature, and what information does it typically include?"
   ]
  },
  {
   "cell_type": "markdown",
   "id": "100c0723-0d7a-43e3-a917-6b39b59728bc",
   "metadata": {},
   "source": [
    "Function Name: The name by which the function can be called.\n",
    "Parameters (if any): The input values that the function accepts. These are enclosed in parentheses.\n",
    "Return Type: The type of value the function returns. If a function doesn't return a value, it has a return type of None.\n",
    "For example, in the function definition def add(x, y):, the function name is add, it takes two parameters x and y, and it returns a value (the sum of x and y)."
   ]
  },
  {
   "cell_type": "markdown",
   "id": "04d77f58-7806-4837-b609-3de25c1500b6",
   "metadata": {},
   "source": [
    "Q6) Create a Python function that takes two arguments and returns their product."
   ]
  },
  {
   "cell_type": "code",
   "execution_count": 27,
   "id": "9e57e473-0fc8-45b6-92ff-fa1139e3f5a7",
   "metadata": {},
   "outputs": [
    {
     "name": "stdout",
     "output_type": "stream",
     "text": [
      "The product of 8 and 4 is 32\n"
     ]
    }
   ],
   "source": [
    "def multiply(x, y):\n",
    "    result = x * y\n",
    "    return result\n",
    "\n",
    "# Function Call\n",
    "num1 = 8\n",
    "num2 = 4\n",
    "product_result = multiply(num1, num2)\n",
    "\n",
    "print(f\"The product of {num1} and {num2} is {product_result}\")"
   ]
  },
  {
   "cell_type": "markdown",
   "id": "17557b38-c83d-412c-9676-0d8ddc3d47fb",
   "metadata": {},
   "source": [
    "Function Parameters and Arguments:"
   ]
  },
  {
   "cell_type": "markdown",
   "id": "625e2428-9ba2-4c89-b382-762d370c0c1a",
   "metadata": {},
   "source": [
    "Q1) Explain the concepts of formal parameters and actual arguments in Python functions."
   ]
  },
  {
   "cell_type": "markdown",
   "id": "ba053fa7-1f35-4f8e-adf1-e78fa164e95d",
   "metadata": {},
   "source": [
    "In Python functions, you have two types of parameters:\n",
    "\n",
    "Formal Parameters (Parameters): These are the placeholders for the values that a function expects to receive when it is called. Formal parameters are defined in the function's parameter list and serve as variables to work with the data passed to the function. They are also sometimes referred to as \"parameters\" or \"arguments\" within the function definition.\n",
    "\n",
    "Example:"
   ]
  },
  {
   "cell_type": "code",
   "execution_count": null,
   "id": "24119367-ba0c-414d-8a3d-2b22ceb32148",
   "metadata": {},
   "outputs": [],
   "source": [
    "def add(x, y):  # Here, x and y are formal parameters.\n",
    "    result = x + y\n",
    "    return result"
   ]
  },
  {
   "cell_type": "markdown",
   "id": "48a783a1-f10e-4470-9a9b-3a4a67fe35bf",
   "metadata": {},
   "source": [
    "Actual Arguments (Arguments): These are the values or expressions that are provided to a function when it is called. Actual arguments are the concrete data that gets substituted into the formal parameters of a function during the function call.\n",
    "\n",
    "Example:"
   ]
  },
  {
   "cell_type": "code",
   "execution_count": 30,
   "id": "d3be3ddf-3047-4b28-9dd0-d8fc7bbcba35",
   "metadata": {},
   "outputs": [],
   "source": [
    "sum_result = add(3, 4)  # Here, 3 and 4 are actual arguments."
   ]
  },
  {
   "cell_type": "markdown",
   "id": "f59bc22a-58ba-4e08-8b8d-93bb91441fc3",
   "metadata": {},
   "source": [
    "Q2) Write a Python program that defines a function with default argument values."
   ]
  },
  {
   "cell_type": "code",
   "execution_count": 31,
   "id": "5cc4c5ac-9314-4e62-a675-8bdf82fe5873",
   "metadata": {},
   "outputs": [
    {
     "name": "stdout",
     "output_type": "stream",
     "text": [
      "Hello, Guest!\n",
      "Hello, Alice!\n"
     ]
    }
   ],
   "source": [
    "def greet(name=\"Guest\"):\n",
    "    print(f\"Hello, {name}!\")\n",
    "\n",
    "# Calling the function with and without arguments\n",
    "greet()             # Output: Hello, Guest!\n",
    "greet(\"Alice\")      # Output: Hello, Alice!"
   ]
  },
  {
   "cell_type": "markdown",
   "id": "a807e20a-67e9-4345-8474-e46110b47d45",
   "metadata": {},
   "source": [
    "Q3) How do you use keyword arguments in Python function calls? Provide an example."
   ]
  },
  {
   "cell_type": "code",
   "execution_count": 32,
   "id": "fd341ac2-c85a-4788-8b31-5541ccf6f4e0",
   "metadata": {},
   "outputs": [
    {
     "name": "stdout",
     "output_type": "stream",
     "text": [
      "Alice is 30 years old and lives in New York.\n",
      "Bob is 25 years old and lives in Los Angeles.\n"
     ]
    }
   ],
   "source": [
    "def describe_person(name, age, city):\n",
    "    print(f\"{name} is {age} years old and lives in {city}.\")\n",
    "\n",
    "# Using keyword arguments to call the function\n",
    "describe_person(name=\"Alice\", age=30, city=\"New York\")\n",
    "describe_person(city=\"Los Angeles\", name=\"Bob\", age=25)"
   ]
  },
  {
   "cell_type": "markdown",
   "id": "60aeb15e-b16b-40df-a156-5360662fdcb6",
   "metadata": {},
   "source": [
    "Q4) Create a Python function that accepts a variable number of arguments and calculates their sum."
   ]
  },
  {
   "cell_type": "code",
   "execution_count": 33,
   "id": "99a085ab-0102-4c63-a8c5-34c1c87d3781",
   "metadata": {},
   "outputs": [
    {
     "name": "stdout",
     "output_type": "stream",
     "text": [
      "10\n",
      "60\n",
      "0\n"
     ]
    }
   ],
   "source": [
    "def calculate_sum(*args):\n",
    "    total = 0\n",
    "    for num in args:\n",
    "        total += num\n",
    "    return total\n",
    "\n",
    "# Calling the function with different numbers of arguments\n",
    "result1 = calculate_sum(1, 2, 3, 4)\n",
    "result2 = calculate_sum(10, 20, 30)\n",
    "result3 = calculate_sum()\n",
    "\n",
    "print(result1)  # Output: 10\n",
    "print(result2)  # Output: 60\n",
    "print(result3)  # Output: 0"
   ]
  },
  {
   "cell_type": "markdown",
   "id": "df7ec279-796a-4418-ac47-b8a74d22b22e",
   "metadata": {},
   "source": [
    "Q5) What is the purpose of the `*args` and `**kwargs` syntax in function parameter lists?"
   ]
  },
  {
   "cell_type": "markdown",
   "id": "fc9266d0-74d7-4c72-9992-47588b83431a",
   "metadata": {},
   "source": [
    "*args (Arbitrary Positional Arguments):\n",
    "\n",
    "*args is used in a function definition to allow for a variable number of positional arguments.\n",
    "It collects all the additional positional arguments into a tuple, which can then be processed within the function.\n",
    "This is useful when you want to create functions that can accept different numbers of arguments.\n",
    "Example:"
   ]
  },
  {
   "cell_type": "code",
   "execution_count": 35,
   "id": "1ca22166-613c-4a4b-8009-6299c346a462",
   "metadata": {},
   "outputs": [],
   "source": [
    "def my_function(arg1, *args):\n",
    "    # arg1 is a regular argument, and args is a tuple containing additional arguments.\n",
    "    # You can loop through args or perform operations on them.\n",
    "    pass"
   ]
  },
  {
   "cell_type": "markdown",
   "id": "7e415e9b-f581-4ab0-9f00-df73d6a7fca2",
   "metadata": {},
   "source": [
    "**kwargs (Arbitrary Keyword Arguments):\n",
    "\n",
    "**kwargs is used to accept a variable number of keyword arguments in a function.\n",
    "It collects all the additional keyword arguments into a dictionary, where keys are parameter names and values are the provided values.\n",
    "This is useful when you want to create functions that accept a variety of named parameters.\n",
    "Example:"
   ]
  },
  {
   "cell_type": "code",
   "execution_count": 36,
   "id": "46851be2-12a5-40de-aaac-0e0445ed458f",
   "metadata": {},
   "outputs": [],
   "source": [
    "def my_function(arg1, **kwargs):\n",
    "    # arg1 is a regular argument, and kwargs is a dictionary containing additional arguments.\n",
    "    # You can access values by their parameter names.\n",
    "    pass"
   ]
  },
  {
   "cell_type": "markdown",
   "id": "5fae8682-c746-44aa-ba2e-847dcd26a5f3",
   "metadata": {},
   "source": [
    "Return Values and Scoping:"
   ]
  },
  {
   "cell_type": "markdown",
   "id": "173bba51-dd07-4bf0-bea1-3f864ba06b4a",
   "metadata": {},
   "source": [
    "Q1) Describe the role of the `return` statement in Python functions and provide examples."
   ]
  },
  {
   "cell_type": "markdown",
   "id": "aeba5331-7956-4c53-bacb-a4c143531082",
   "metadata": {},
   "source": [
    "The return statement in Python functions is used to specify the value that a function should send back as its result when the function is called. It allows a function to produce an output that can be used in other parts of the program. The return statement also serves to terminate the execution of the function, meaning that once a return statement is encountered, the function exits, and the control is returned to the calling code.\n",
    "\n",
    "Here are some key points about the return statement in Python functions:\n",
    "\n",
    "Returning Values: You can use return to send back a single value or an expression as the result of the function. This value can be of any data type, including numbers, strings, lists, dictionaries, or even other functions."
   ]
  },
  {
   "cell_type": "code",
   "execution_count": 40,
   "id": "f0e83d68-ac35-4ee1-b550-f044b39a0cef",
   "metadata": {},
   "outputs": [
    {
     "name": "stdout",
     "output_type": "stream",
     "text": [
      "7\n"
     ]
    }
   ],
   "source": [
    "def add(x, y):\n",
    "    result = x + y\n",
    "    return result\n",
    "\n",
    "sum_result = add(3, 4)\n",
    "print(sum_result)  "
   ]
  },
  {
   "cell_type": "markdown",
   "id": "0570172c-ff0c-487a-a86d-ed245286759e",
   "metadata": {},
   "source": [
    "Exiting the Function: When a return statement is encountered in a function, it immediately exits the function, even if there are more statements after it. This means that any code following the return statement in the same block will not be executed."
   ]
  },
  {
   "cell_type": "code",
   "execution_count": 41,
   "id": "de724366-3188-4a23-b78a-efc256610af9",
   "metadata": {},
   "outputs": [
    {
     "name": "stdout",
     "output_type": "stream",
     "text": [
      "This is before the return statement.\n"
     ]
    }
   ],
   "source": [
    "def example_function():\n",
    "    print(\"This is before the return statement.\")\n",
    "    return 42\n",
    "    print(\"This is after the return statement.\")  # This line won't be executed.\n",
    "\n",
    "result = example_function()"
   ]
  },
  {
   "cell_type": "markdown",
   "id": "27aa1bfa-886f-4438-a921-a1b7f631e0d1",
   "metadata": {},
   "source": [
    "Returning Multiple Values: You can return multiple values from a function as a tuple. This is often used when you want to return multiple pieces of data as a single result."
   ]
  },
  {
   "cell_type": "code",
   "execution_count": 42,
   "id": "d43eb2fc-4c9e-4f4f-88a4-c0c719ff4ca2",
   "metadata": {},
   "outputs": [],
   "source": [
    "def get_name_and_age():\n",
    "    name = \"Alice\"\n",
    "    age = 30\n",
    "    return name, age\n",
    "\n",
    "name, age = get_name_and_age()"
   ]
  },
  {
   "cell_type": "markdown",
   "id": "69ce9dd2-7705-4880-99cf-5fb9653d8381",
   "metadata": {},
   "source": [
    "No Return Value (or None): If a function doesn't explicitly use the return statement, it implicitly returns None. This is equivalent to saying that the function doesn't produce any meaningful result."
   ]
  },
  {
   "cell_type": "code",
   "execution_count": 43,
   "id": "6d4b4bea-a00c-4bc8-99f8-50341dd7dcf3",
   "metadata": {},
   "outputs": [
    {
     "name": "stdout",
     "output_type": "stream",
     "text": [
      "None\n"
     ]
    }
   ],
   "source": [
    "def do_something():\n",
    "    # This function doesn't have a return statement, so it returns None implicitly.\n",
    "    pass\n",
    "\n",
    "result = do_something()\n",
    "print(result)  # Output: None"
   ]
  },
  {
   "cell_type": "markdown",
   "id": "115abba7-2d72-47c8-a30e-a5c304e6227d",
   "metadata": {},
   "source": [
    "Q2) Explain the concept of variable scope in Python, including local and global variables."
   ]
  },
  {
   "cell_type": "markdown",
   "id": "e908bc01-a61b-43ee-ac91-33c6daa0cee6",
   "metadata": {},
   "source": [
    "In Python, variable scope refers to the context in which a variable is defined and can be accessed. Python has two main types of variable scope:\n",
    "\n",
    "Local Variables:\n",
    "\n",
    "Local variables are defined within a specific block or function and can only be accessed from within that block or function.\n",
    "They have a limited scope, which means they are not visible or accessible outside the block or function where they are defined.\n",
    "Local variables are created when the function is called and are destroyed when the function exits.\n",
    "Example:"
   ]
  },
  {
   "cell_type": "code",
   "execution_count": 44,
   "id": "e77513c3-9469-4bb5-b7ba-86b31185cc76",
   "metadata": {},
   "outputs": [
    {
     "name": "stdout",
     "output_type": "stream",
     "text": [
      "10\n"
     ]
    }
   ],
   "source": [
    "def my_function():\n",
    "    x = 10  # x is a local variable\n",
    "    print(x)\n",
    "\n",
    "my_function()\n",
    "# print(x)  # This would result in an error because x is not defined in the global scope.\n"
   ]
  },
  {
   "cell_type": "markdown",
   "id": "85468725-946b-4412-b804-43c9980dc8fa",
   "metadata": {},
   "source": [
    "Global Variables:\n",
    "\n",
    "Global variables are defined at the outermost level of a Python program or in a module, making them accessible from anywhere within that program or module.\n",
    "They have a broader scope, which means they can be accessed both inside and outside functions.\n",
    "Global variables are created when they are defined and persist as long as the program or module is running.\n",
    "Example:"
   ]
  },
  {
   "cell_type": "code",
   "execution_count": 45,
   "id": "01204c82-c3c4-4c41-a2d6-da978d3fc1ae",
   "metadata": {},
   "outputs": [
    {
     "name": "stdout",
     "output_type": "stream",
     "text": [
      "10\n",
      "10\n"
     ]
    }
   ],
   "source": [
    "x = 10  # x is a global variable\n",
    "\n",
    "def my_function():\n",
    "    print(x)  # Accessing the global variable x\n",
    "\n",
    "my_function()\n",
    "print(x)  # Accessing the global variable x outside the function"
   ]
  },
  {
   "cell_type": "markdown",
   "id": "146bfbb4-7cdd-49cb-91f1-828bb60471fc",
   "metadata": {},
   "source": [
    "Q3) Write a Python program that demonstrates the use of global variables within functions."
   ]
  },
  {
   "cell_type": "code",
   "execution_count": 46,
   "id": "b26e0189-5ade-4a38-b1d0-16072c198860",
   "metadata": {},
   "outputs": [
    {
     "name": "stdout",
     "output_type": "stream",
     "text": [
      "Global variable: 110\n"
     ]
    }
   ],
   "source": [
    "global_var = 100\n",
    "\n",
    "def increment_global():\n",
    "    global global_var\n",
    "    global_var += 10\n",
    "\n",
    "def print_global():\n",
    "    print(f\"Global variable: {global_var}\")\n",
    "\n",
    "increment_global()\n",
    "print_global()  # Output: Global variable: 110"
   ]
  },
  {
   "cell_type": "markdown",
   "id": "ac42b4d8-a20e-48a3-aa75-e3e08938cd9c",
   "metadata": {},
   "source": [
    "Q4) Create a Python function that calculates the factorial of a number and returns it."
   ]
  },
  {
   "cell_type": "code",
   "execution_count": 47,
   "id": "f6ffc35c-a4af-4929-85a3-305f6313b729",
   "metadata": {},
   "outputs": [
    {
     "name": "stdout",
     "output_type": "stream",
     "text": [
      "120\n"
     ]
    }
   ],
   "source": [
    "def factorial(n):\n",
    "    if n == 0:\n",
    "        return 1\n",
    "    else:\n",
    "        return n * factorial(n - 1)\n",
    "\n",
    "result = factorial(5)  # Calculate the factorial of 5\n",
    "print(result)  # Output: 120"
   ]
  },
  {
   "cell_type": "markdown",
   "id": "201eb549-22cf-4679-a478-ebddb940e7f5",
   "metadata": {},
   "source": [
    "Q5) How can you access variables defined outside a function from within the function?"
   ]
  },
  {
   "cell_type": "markdown",
   "id": "a2d4565d-e487-4f00-9796-59238d01d5c6",
   "metadata": {},
   "source": [
    "To access variables defined outside a function from within the function, you have a few options:\n",
    "\n",
    "Use the Variable Directly: If the variable is defined in the global scope, you can access it directly within the function without any additional keywords."
   ]
  },
  {
   "cell_type": "code",
   "execution_count": 48,
   "id": "c339cfa1-2578-4cc9-a175-fd564d614f2b",
   "metadata": {},
   "outputs": [
    {
     "name": "stdout",
     "output_type": "stream",
     "text": [
      "42\n"
     ]
    }
   ],
   "source": [
    "global_var = 42\n",
    "\n",
    "def access_global():\n",
    "    print(global_var)\n",
    "\n",
    "access_global()  # Output: 42"
   ]
  },
  {
   "cell_type": "markdown",
   "id": "5ed5c022-1a19-46c8-9373-10514c61d0ac",
   "metadata": {},
   "source": [
    "Use the global Keyword (for modification): If you want to modify a global variable within a function, you should use the global keyword to indicate that you are working with the global variable, not creating a new local variable with the same name."
   ]
  },
  {
   "cell_type": "code",
   "execution_count": 49,
   "id": "450beee2-be6d-45a5-9e40-f6634862f5af",
   "metadata": {},
   "outputs": [
    {
     "name": "stdout",
     "output_type": "stream",
     "text": [
      "52\n"
     ]
    }
   ],
   "source": [
    "global_var = 42\n",
    "\n",
    "def modify_global():\n",
    "    global global_var\n",
    "    global_var += 10\n",
    "\n",
    "modify_global()\n",
    "print(global_var)  # Output: 52"
   ]
  },
  {
   "cell_type": "markdown",
   "id": "bf150e48-0621-496e-ad7e-9ad3186e71b4",
   "metadata": {},
   "source": [
    "Pass Variables as Arguments: You can also pass variables defined outside the function as arguments to the function. This is especially useful if you want to maintain a clear distinction between local and global variables."
   ]
  },
  {
   "cell_type": "code",
   "execution_count": 50,
   "id": "1c002766-8102-42f4-91ba-35769bd3e7c3",
   "metadata": {},
   "outputs": [
    {
     "name": "stdout",
     "output_type": "stream",
     "text": [
      "42\n"
     ]
    }
   ],
   "source": [
    "global_var = 42\n",
    "\n",
    "def access_via_argument(var):\n",
    "    print(var)\n",
    "\n",
    "access_via_argument(global_var)  # Output: 42\n"
   ]
  },
  {
   "cell_type": "markdown",
   "id": "5e7c6b03-4396-492b-8eac-89d6bd4021ab",
   "metadata": {},
   "source": [
    "Lambda Functions and Higher-Order Functions:"
   ]
  },
  {
   "cell_type": "markdown",
   "id": "27108cf5-4858-48be-83d0-3e7e21a2e155",
   "metadata": {},
   "source": [
    "Q1) What are lambda functions in Python, and when are they typically used?"
   ]
  },
  {
   "cell_type": "markdown",
   "id": "380e3507-f9cf-43cc-82e6-9c9dbb8cbd6c",
   "metadata": {},
   "source": [
    " Lambda functions in Python are anonymous, small, and lightweight functions defined using the lambda keyword. They are also known as lambda expressions or lambda forms. Lambda functions are typically used for simple, one-line operations where a full function definition using def is unnecessary. They can take any number of arguments but can only have one expression. Lambda functions are often used in conjunction with functions like map(), filter(), and sorted()."
   ]
  },
  {
   "cell_type": "markdown",
   "id": "62ea8894-13bd-47f5-b500-74138575f857",
   "metadata": {},
   "source": [
    "Q2) Write a Python program that uses lambda functions to sort a list of tuples based on the second element."
   ]
  },
  {
   "cell_type": "code",
   "execution_count": 51,
   "id": "bbf9e298-8a0c-49a4-aa7f-fe3e0b03ca78",
   "metadata": {},
   "outputs": [
    {
     "name": "stdout",
     "output_type": "stream",
     "text": [
      "[(4, 1), (3, 2), (1, 5), (2, 8)]\n"
     ]
    }
   ],
   "source": [
    "# List of tuples\n",
    "tuples_list = [(1, 5), (3, 2), (2, 8), (4, 1)]\n",
    "\n",
    "# Sort the list based on the second element of each tuple\n",
    "sorted_list = sorted(tuples_list, key=lambda x: x[1])\n",
    "\n",
    "# Print the sorted list\n",
    "print(sorted_list)"
   ]
  },
  {
   "cell_type": "markdown",
   "id": "7ba48680-0bd8-49c0-b3f3-336a8fd34ac6",
   "metadata": {},
   "source": [
    "Q3) Explain the concept of higher-order functions in Python, and provide an example."
   ]
  },
  {
   "cell_type": "markdown",
   "id": "2b2f47a4-24a5-443e-8066-21d29dffcf1c",
   "metadata": {},
   "source": [
    "Higher-order functions in Python are functions that can accept other functions as arguments, return functions as results, or both. They enable functional programming paradigms and are a powerful feature of Python. Higher-order functions are often used for operations like mapping, filtering, reducing, and more. Here's an example:"
   ]
  },
  {
   "cell_type": "code",
   "execution_count": 52,
   "id": "fec03696-031c-4c14-bbcc-1369ff8752e6",
   "metadata": {},
   "outputs": [
    {
     "name": "stdout",
     "output_type": "stream",
     "text": [
      "[1, 4, 9, 16, 25]\n"
     ]
    }
   ],
   "source": [
    "# Define a higher-order function\n",
    "def apply_operation(operation, num_list):\n",
    "    result = []\n",
    "    for num in num_list:\n",
    "        result.append(operation(num))\n",
    "    return result\n",
    "\n",
    "# Define a simple operation function\n",
    "def square(x):\n",
    "    return x * x\n",
    "\n",
    "# Define a list of numbers\n",
    "numbers = [1, 2, 3, 4, 5]\n",
    "\n",
    "# Use the higher-order function to apply the square operation\n",
    "squared_numbers = apply_operation(square, numbers)\n",
    "\n",
    "# Print the result\n",
    "print(squared_numbers)"
   ]
  },
  {
   "cell_type": "code",
   "execution_count": null,
   "id": "352b1f59-965f-4351-89ed-b99b5054c70a",
   "metadata": {},
   "outputs": [],
   "source": [
    "Q4) Create a Python function that takes a list of numbers and a function as arguments, applying the function to each element in the list."
   ]
  },
  {
   "cell_type": "code",
   "execution_count": 53,
   "id": "24e1301a-9614-49de-99cf-71c09973c409",
   "metadata": {},
   "outputs": [
    {
     "name": "stdout",
     "output_type": "stream",
     "text": [
      "[2, 4, 6, 8, 10]\n"
     ]
    }
   ],
   "source": [
    "def apply_function_to_list(function, num_list):\n",
    "    result = []\n",
    "    for num in num_list:\n",
    "        result.append(function(num))\n",
    "    return result\n",
    "\n",
    "# Define a sample function to be applied\n",
    "def double(x):\n",
    "    return x * 2\n",
    "numbers = [1, 2, 3, 4, 5]\n",
    "result = apply_function_to_list(double, numbers)\n",
    "\n",
    "# Print the result\n",
    "print(result)"
   ]
  },
  {
   "cell_type": "markdown",
   "id": "6d00c96d-9785-47f1-9f7d-d32b55c7ce03",
   "metadata": {},
   "source": [
    "Built-in Functions:"
   ]
  },
  {
   "cell_type": "markdown",
   "id": "37372aeb-381f-4d7c-a40e-7619fa6fa5b8",
   "metadata": {},
   "source": [
    "Q1) Describe the role of built-in functions like `len()`, `max()`, and `min()` in Python.\n"
   ]
  },
  {
   "cell_type": "markdown",
   "id": "679f7174-ea84-4cf1-8ef5-dc1f7deb1318",
   "metadata": {},
   "source": [
    "Built-in functions like len(), max(), and min() in Python are essential tools that provide convenient ways to perform common operations on various data structures. Here's a brief overview of their roles and how they work:\n",
    "\n",
    "len():\n",
    "\n",
    "Role: The len() function is used to determine the length or the number of items in a given iterable, such as a string, list, tuple, dictionary, or set.\n",
    "How it works: When you pass an iterable as an argument to len(), it returns the number of elements in that iterable. For example, len(\"Hello\") would return 5, as there are five characters in the string \"Hello.\"\n",
    "max():\n",
    "\n",
    "Role: The max() function is used to find the largest item in an iterable or among a series of arguments.\n",
    "How it works: When you pass one or more arguments to max(), it returns the largest value among them. For example, max(5, 8, 2) would return 8, as it's the largest number among the arguments.\n",
    "min():\n",
    "\n",
    "Role: The min() function is used to find the smallest item in an iterable or among a series of arguments.\n",
    "How it works: Similar to max(), when you pass one or more arguments to min(), it returns the smallest value among them. For example, min(5, 8, 2) would return 2, as it's the smallest number among the arguments.\n",
    "These built-in functions are versatile and can be used with various data types and data structures. They save time and simplify common tasks, making Python a user-friendly language for data manipulation and analysis. Here are some examples of their usage:"
   ]
  },
  {
   "cell_type": "code",
   "execution_count": 1,
   "id": "0befa2f6-25bf-4ed7-96f4-78ab23ab1967",
   "metadata": {},
   "outputs": [],
   "source": [
    "# Using len()\n",
    "my_list = [1, 2, 3, 4, 5]\n",
    "length = len(my_list)  # length is now 5\n",
    "\n",
    "# Using max()\n",
    "numbers = [10, 25, 3, 99, 42]\n",
    "maximum = max(numbers)  # maximum is now 99\n",
    "\n",
    "# Using min()\n",
    "values = (15, 8, 23, 7, 11)\n",
    "minimum = min(values)  # minimum is now 7"
   ]
  },
  {
   "cell_type": "markdown",
   "id": "6bdb2268-2df2-4145-8053-06aa32b5c903",
   "metadata": {},
   "source": [
    "Q2) Write a Python program that uses the `map()` function to apply a function to each element of a list."
   ]
  },
  {
   "cell_type": "markdown",
   "id": "bb7f992d-ceac-4c54-97d9-9af88c120716",
   "metadata": {},
   "source": [
    "Sure, I can provide you with Python programs that demonstrate the use of map(), filter(), and reduce() functions.\n",
    "\n",
    "Using map() to apply a function to each element of a list:"
   ]
  },
  {
   "cell_type": "code",
   "execution_count": 2,
   "id": "040791b7-cba4-43f3-8bbc-05cf2a8f4441",
   "metadata": {},
   "outputs": [
    {
     "name": "stdout",
     "output_type": "stream",
     "text": [
      "[1, 4, 9, 16, 25]\n"
     ]
    }
   ],
   "source": [
    "# Define a function to square a number\n",
    "def square(x):\n",
    "    return x * x\n",
    "\n",
    "# Create a list of numbers\n",
    "numbers = [1, 2, 3, 4, 5]\n",
    "\n",
    "# Use map() to apply the square function to each element of the list\n",
    "squared_numbers = list(map(square, numbers))\n",
    "\n",
    "# Print the squared numbers\n",
    "print(squared_numbers)"
   ]
  },
  {
   "cell_type": "markdown",
   "id": "1b346483-c91c-41dc-9704-e8388576a908",
   "metadata": {},
   "source": [
    "How the filter() function works and when to use it:\n",
    "The filter() function is used to filter elements from an iterable (like a list) based on a specified condition. It takes two arguments: a function that returns either True or False (a predicate function) and an iterable. filter() returns an iterable containing the elements for which the predicate function returns True."
   ]
  },
  {
   "cell_type": "code",
   "execution_count": 3,
   "id": "d388e97f-97c6-4fca-9259-38a226df077e",
   "metadata": {},
   "outputs": [
    {
     "name": "stdout",
     "output_type": "stream",
     "text": [
      "[2, 4, 6, 8, 10]\n"
     ]
    }
   ],
   "source": [
    "# Define a function to check if a number is even\n",
    "def is_even(x):\n",
    "    return x % 2 == 0\n",
    "\n",
    "# Create a list of numbers\n",
    "numbers = [1, 2, 3, 4, 5, 6, 7, 8, 9, 10]\n",
    "\n",
    "# Use filter() to filter out the even numbers\n",
    "even_numbers = list(filter(is_even, numbers))\n",
    "\n",
    "# Print the even numbers\n",
    "print(even_numbers)"
   ]
  },
  {
   "cell_type": "markdown",
   "id": "81aee627-cc15-4924-8526-2da6361284a4",
   "metadata": {},
   "source": [
    "Using reduce() to find the product of all elements in a list (requires importing the functools module):"
   ]
  },
  {
   "cell_type": "code",
   "execution_count": 4,
   "id": "7298e0f7-a644-4f79-ac7b-ee90c6606c66",
   "metadata": {},
   "outputs": [
    {
     "name": "stdout",
     "output_type": "stream",
     "text": [
      "120\n"
     ]
    }
   ],
   "source": [
    "from functools import reduce\n",
    "\n",
    "# Define a function to multiply two numbers\n",
    "def multiply(x, y):\n",
    "    return x * y\n",
    "\n",
    "# Create a list of numbers\n",
    "numbers = [1, 2, 3, 4, 5]\n",
    "\n",
    "# Use reduce() to find the product of all elements in the list\n",
    "product = reduce(multiply, numbers)\n",
    "\n",
    "# Print the product\n",
    "print(product)"
   ]
  },
  {
   "cell_type": "markdown",
   "id": "c3c47700-a8f0-45ee-a422-a3105258a1d0",
   "metadata": {},
   "source": [
    "Q3) How does the `filter()` function work in Python, and when would you use it?"
   ]
  },
  {
   "cell_type": "markdown",
   "id": "645e3d83-fa8f-4ed5-af22-e60d0e5c2457",
   "metadata": {},
   "source": [
    "The filter() function in Python is used to filter elements from an iterable (such as a list, tuple, or other iterable) based on a given function's criteria. It returns an iterator containing the elements for which the function returns True.\n",
    "\n",
    "The syntax of the filter() function is as follows:"
   ]
  },
  {
   "cell_type": "code",
   "execution_count": 6,
   "id": "ea66573c-d289-417d-84c6-f3cf0368426d",
   "metadata": {},
   "outputs": [
    {
     "name": "stdout",
     "output_type": "stream",
     "text": [
      "[2, 4, 6, 8, 10]\n"
     ]
    }
   ],
   "source": [
    "def is_even(num):\n",
    "    return num % 2 == 0\n",
    "\n",
    "numbers = [1, 2, 3, 4, 5, 6, 7, 8, 9, 10]\n",
    "filtered_numbers = filter(is_even, numbers)\n",
    "\n",
    "# Convert the filtered result to a list\n",
    "even_numbers = list(filtered_numbers)\n",
    "\n",
    "print(even_numbers)"
   ]
  },
  {
   "cell_type": "markdown",
   "id": "eab33b8f-15f3-4417-837c-1b412de144b6",
   "metadata": {},
   "source": [
    "Q4) Create a Python program that uses the `reduce()` function to find the product of all elements in a list."
   ]
  },
  {
   "cell_type": "code",
   "execution_count": 7,
   "id": "c7cf05d6-8c67-4400-baf5-d60b4c19ab88",
   "metadata": {},
   "outputs": [
    {
     "name": "stdout",
     "output_type": "stream",
     "text": [
      "Product of all elements: 120\n"
     ]
    }
   ],
   "source": [
    "from functools import reduce\n",
    "\n",
    "# Define a function to calculate the product of two numbers\n",
    "def multiply(x, y):\n",
    "    return x * y\n",
    "\n",
    "# List of numbers\n",
    "numbers = [1, 2, 3, 4, 5]\n",
    "\n",
    "# Use the reduce() function to find the product of all elements in the list\n",
    "product = reduce(multiply, numbers)\n",
    "\n",
    "print(\"Product of all elements:\", product)"
   ]
  },
  {
   "cell_type": "markdown",
   "id": "189d274e-5f69-4906-a4bb-7b5982c7c194",
   "metadata": {},
   "source": [
    "Function Documentation and Best Practices:"
   ]
  },
  {
   "cell_type": "markdown",
   "id": "8f831ceb-7e51-47d4-af54-35f242d0f369",
   "metadata": {},
   "source": [
    "Q1) Explain the purpose of docstrings in Python functions and how to write them."
   ]
  },
  {
   "cell_type": "markdown",
   "id": "b9702226-fbbf-4174-905e-00ff485a7044",
   "metadata": {},
   "source": [
    "Docstrings in Python are used to provide documentation and information about functions, modules, classes, and methods. They serve as a way to document what a particular piece of code does, its parameters, and its expected behavior. Docstrings are particularly useful for making your code more readable and for providing helpful information to other developers who may use or maintain your code.\n",
    "\n",
    "To write docstrings, you typically place a string literal (a string enclosed in triple quotes, either single or double) immediately after the function, class, or module definition. Here's an example of how to write a docstring for a function:"
   ]
  },
  {
   "cell_type": "code",
   "execution_count": 8,
   "id": "d30ed265-fc91-454e-9848-0bd692e9d0b4",
   "metadata": {},
   "outputs": [],
   "source": [
    "def add(a, b):\n",
    "    \"\"\"\n",
    "    This function takes two numbers, 'a' and 'b', and returns their sum.\n",
    "\n",
    "    Parameters:\n",
    "    a (int or float): The first number.\n",
    "    b (int or float): The second number.\n",
    "\n",
    "    Returns:\n",
    "    int or float: The sum of 'a' and 'b'.\n",
    "    \"\"\"\n",
    "    return a + b"
   ]
  },
  {
   "cell_type": "code",
   "execution_count": null,
   "id": "19eae584-e3d1-49d8-90b7-f4e1a129d683",
   "metadata": {},
   "outputs": [],
   "source": [
    "Q2) Describe some best practices for naming functions and variables in Python, including naming conventions and guidelines."
   ]
  },
  {
   "cell_type": "markdown",
   "id": "acba3a85-d264-4df8-bcb0-94a29472c0e0",
   "metadata": {},
   "source": [
    "Choosing meaningful and consistent names for functions and variables is essential for writing clean, readable, and maintainable Python code. Here are some best practices for naming functions and variables in Python:\n",
    "\n",
    "Follow PEP 8: PEP 8 is the official Python style guide, and it provides guidelines for naming conventions. Some key points include:\n",
    "\n",
    "Use lowercase letters for variable and function names.\n",
    "Use underscores to separate words in variable and function names (e.g., my_variable, calculate_total).\n",
    "Use descriptive and meaningful names that convey the purpose of the variable or function.\n",
    "Use descriptive names: Choose names that make the purpose of the variable or function clear. Avoid single-letter variable names (e.g., x, i) unless they are used in a very limited scope and their purpose is obvious.\n",
    "\n",
    "Avoid reserved words: Don't use Python's reserved words (e.g., if, while, for, import) as variable or function names.\n",
    "\n",
    "Be consistent: Maintain consistency in naming throughout your codebase. If you use a specific naming convention, stick to it across all functions and variables.\n",
    "\n",
    "Use verbs for functions: Function names should typically start with a verb that describes the action the function performs. For example, use names like calculate_total, validate_input, or get_user_info.\n",
    "\n",
    "Use nouns for variables: Variable names should be nouns or noun phrases that describe the data they hold. For example, use names like user_name, product_list, or customer_data.\n",
    "\n",
    "Use lowercase for module names: Module names should be in lowercase (e.g., my_module.py). Avoid using hyphens or spaces in module names.\n",
    "\n",
    "Constants in uppercase: If you define constants, use uppercase letters with underscores to separate words (e.g., PI, MAX_LENGTH).\n",
    "\n",
    "Avoid abbreviations: While brevity is good, avoid excessive abbreviation that might make your code less readable. It's better to use descriptive names rather than cryptic abbreviations.\n",
    "\n",
    "Use meaningful prefixes: In some cases, adding prefixes can help clarify the purpose of a variable. For example, is_valid indicates a Boolean variable, and str_name indicates a string variable.\n",
    "\n",
    "Remember that readability and clarity should be your primary goals when naming functions and variables. Code that is easy to understand is easier to maintain and less prone to bugs.\n",
    "\n",
    "\n",
    "\n",
    "\n"
   ]
  }
 ],
 "metadata": {
  "kernelspec": {
   "display_name": "Python 3 (ipykernel)",
   "language": "python",
   "name": "python3"
  },
  "language_info": {
   "codemirror_mode": {
    "name": "ipython",
    "version": 3
   },
   "file_extension": ".py",
   "mimetype": "text/x-python",
   "name": "python",
   "nbconvert_exporter": "python",
   "pygments_lexer": "ipython3",
   "version": "3.10.8"
  }
 },
 "nbformat": 4,
 "nbformat_minor": 5
}
